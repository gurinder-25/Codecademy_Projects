{
 "cells": [
  {
   "cell_type": "markdown",
   "id": "0c405cc7",
   "metadata": {
    "papermill": {
     "duration": 0.005691,
     "end_time": "2023-06-23T08:28:57.839820",
     "exception": false,
     "start_time": "2023-06-23T08:28:57.834129",
     "status": "completed"
    },
    "tags": []
   },
   "source": [
    "# Breast Cancer Classification"
   ]
  },
  {
   "cell_type": "markdown",
   "id": "a0f48c35",
   "metadata": {
    "papermill": {
     "duration": 0.004864,
     "end_time": "2023-06-23T08:28:57.850064",
     "exception": false,
     "start_time": "2023-06-23T08:28:57.845200",
     "status": "completed"
    },
    "tags": []
   },
   "source": [
    "**The core purpose of this program is to perform breast cancer classification using the k-nearest neighbors (KNN) algorithm.**"
   ]
  },
  {
   "cell_type": "markdown",
   "id": "80b427f8",
   "metadata": {
    "papermill": {
     "duration": 0.004977,
     "end_time": "2023-06-23T08:28:57.860235",
     "exception": false,
     "start_time": "2023-06-23T08:28:57.855258",
     "status": "completed"
    },
    "tags": []
   },
   "source": [
    "# K Nearest Neighbors\n",
    "**The main concept behind KNN clasification is that, datapoints that are similar will have smaller distance between them.**"
   ]
  },
  {
   "cell_type": "markdown",
   "id": "3e9877fe",
   "metadata": {
    "papermill": {
     "duration": 0.00485,
     "end_time": "2023-06-23T08:28:57.870265",
     "exception": false,
     "start_time": "2023-06-23T08:28:57.865415",
     "status": "completed"
    },
    "tags": []
   },
   "source": [
    "**Steps:**\n",
    "* Load the dataset\n",
    "* Split into training and validation set\n",
    "* Create a KNN Classifier model and train it with k=3\n",
    "* Test accuarcy on validation set\n",
    "* For different values of k, we will calculate its accuracies\n",
    "* Plot k-values vs corresponding accuracies"
   ]
  },
  {
   "cell_type": "markdown",
   "id": "98de963f",
   "metadata": {
    "papermill": {
     "duration": 0.004834,
     "end_time": "2023-06-23T08:28:57.880272",
     "exception": false,
     "start_time": "2023-06-23T08:28:57.875438",
     "status": "completed"
    },
    "tags": []
   },
   "source": [
    "# Load the dataset"
   ]
  },
  {
   "cell_type": "code",
   "execution_count": 1,
   "id": "eb3a9d7b",
   "metadata": {
    "execution": {
     "iopub.execute_input": "2023-06-23T08:28:57.893723Z",
     "iopub.status.busy": "2023-06-23T08:28:57.892745Z",
     "iopub.status.idle": "2023-06-23T08:28:59.882062Z",
     "shell.execute_reply": "2023-06-23T08:28:59.880831Z"
    },
    "papermill": {
     "duration": 1.99958,
     "end_time": "2023-06-23T08:28:59.885176",
     "exception": false,
     "start_time": "2023-06-23T08:28:57.885596",
     "status": "completed"
    },
    "tags": []
   },
   "outputs": [],
   "source": [
    "from sklearn.datasets import load_breast_cancer\n",
    "from sklearn.model_selection import train_test_split\n",
    "from sklearn.neighbors import KNeighborsClassifier\n",
    "import matplotlib.pyplot as plt\n",
    "\n",
    "breast_cancer_data = load_breast_cancer()"
   ]
  },
  {
   "cell_type": "markdown",
   "id": "d88cc390",
   "metadata": {
    "papermill": {
     "duration": 0.004883,
     "end_time": "2023-06-23T08:28:59.895318",
     "exception": false,
     "start_time": "2023-06-23T08:28:59.890435",
     "status": "completed"
    },
    "tags": []
   },
   "source": [
    "# Split into training and validation set"
   ]
  },
  {
   "cell_type": "code",
   "execution_count": 2,
   "id": "84069ccd",
   "metadata": {
    "execution": {
     "iopub.execute_input": "2023-06-23T08:28:59.908933Z",
     "iopub.status.busy": "2023-06-23T08:28:59.908499Z",
     "iopub.status.idle": "2023-06-23T08:28:59.916351Z",
     "shell.execute_reply": "2023-06-23T08:28:59.915557Z"
    },
    "papermill": {
     "duration": 0.016677,
     "end_time": "2023-06-23T08:28:59.918668",
     "exception": false,
     "start_time": "2023-06-23T08:28:59.901991",
     "status": "completed"
    },
    "tags": []
   },
   "outputs": [],
   "source": [
    "training_data, validation_data, training_labels, validation_labels = train_test_split(breast_cancer_data.data, breast_cancer_data.target, test_size=0.2, random_state=100)"
   ]
  },
  {
   "cell_type": "code",
   "execution_count": 3,
   "id": "4a7b1e6a",
   "metadata": {
    "collapsed": true,
    "execution": {
     "iopub.execute_input": "2023-06-23T08:28:59.931487Z",
     "iopub.status.busy": "2023-06-23T08:28:59.930495Z",
     "iopub.status.idle": "2023-06-23T08:28:59.936731Z",
     "shell.execute_reply": "2023-06-23T08:28:59.935532Z"
    },
    "jupyter": {
     "outputs_hidden": true
    },
    "papermill": {
     "duration": 0.014984,
     "end_time": "2023-06-23T08:28:59.938959",
     "exception": false,
     "start_time": "2023-06-23T08:28:59.923975",
     "status": "completed"
    },
    "tags": []
   },
   "outputs": [
    {
     "name": "stdout",
     "output_type": "stream",
     "text": [
      "455\n",
      "455\n"
     ]
    }
   ],
   "source": [
    "#check the sizes of training data and labels\n",
    "print(len(training_data))\n",
    "print(len(training_labels))"
   ]
  },
  {
   "cell_type": "markdown",
   "id": "6ee2f383",
   "metadata": {
    "papermill": {
     "duration": 0.005531,
     "end_time": "2023-06-23T08:28:59.950133",
     "exception": false,
     "start_time": "2023-06-23T08:28:59.944602",
     "status": "completed"
    },
    "tags": []
   },
   "source": [
    "# Create a KNN Classifier model and train it with k=3"
   ]
  },
  {
   "cell_type": "code",
   "execution_count": 4,
   "id": "9c4a9a9d",
   "metadata": {
    "execution": {
     "iopub.execute_input": "2023-06-23T08:28:59.963757Z",
     "iopub.status.busy": "2023-06-23T08:28:59.962952Z",
     "iopub.status.idle": "2023-06-23T08:28:59.978798Z",
     "shell.execute_reply": "2023-06-23T08:28:59.977539Z"
    },
    "papermill": {
     "duration": 0.025794,
     "end_time": "2023-06-23T08:28:59.981420",
     "exception": false,
     "start_time": "2023-06-23T08:28:59.955626",
     "status": "completed"
    },
    "tags": []
   },
   "outputs": [
    {
     "data": {
      "text/html": [
       "<style>#sk-container-id-1 {color: black;background-color: white;}#sk-container-id-1 pre{padding: 0;}#sk-container-id-1 div.sk-toggleable {background-color: white;}#sk-container-id-1 label.sk-toggleable__label {cursor: pointer;display: block;width: 100%;margin-bottom: 0;padding: 0.3em;box-sizing: border-box;text-align: center;}#sk-container-id-1 label.sk-toggleable__label-arrow:before {content: \"▸\";float: left;margin-right: 0.25em;color: #696969;}#sk-container-id-1 label.sk-toggleable__label-arrow:hover:before {color: black;}#sk-container-id-1 div.sk-estimator:hover label.sk-toggleable__label-arrow:before {color: black;}#sk-container-id-1 div.sk-toggleable__content {max-height: 0;max-width: 0;overflow: hidden;text-align: left;background-color: #f0f8ff;}#sk-container-id-1 div.sk-toggleable__content pre {margin: 0.2em;color: black;border-radius: 0.25em;background-color: #f0f8ff;}#sk-container-id-1 input.sk-toggleable__control:checked~div.sk-toggleable__content {max-height: 200px;max-width: 100%;overflow: auto;}#sk-container-id-1 input.sk-toggleable__control:checked~label.sk-toggleable__label-arrow:before {content: \"▾\";}#sk-container-id-1 div.sk-estimator input.sk-toggleable__control:checked~label.sk-toggleable__label {background-color: #d4ebff;}#sk-container-id-1 div.sk-label input.sk-toggleable__control:checked~label.sk-toggleable__label {background-color: #d4ebff;}#sk-container-id-1 input.sk-hidden--visually {border: 0;clip: rect(1px 1px 1px 1px);clip: rect(1px, 1px, 1px, 1px);height: 1px;margin: -1px;overflow: hidden;padding: 0;position: absolute;width: 1px;}#sk-container-id-1 div.sk-estimator {font-family: monospace;background-color: #f0f8ff;border: 1px dotted black;border-radius: 0.25em;box-sizing: border-box;margin-bottom: 0.5em;}#sk-container-id-1 div.sk-estimator:hover {background-color: #d4ebff;}#sk-container-id-1 div.sk-parallel-item::after {content: \"\";width: 100%;border-bottom: 1px solid gray;flex-grow: 1;}#sk-container-id-1 div.sk-label:hover label.sk-toggleable__label {background-color: #d4ebff;}#sk-container-id-1 div.sk-serial::before {content: \"\";position: absolute;border-left: 1px solid gray;box-sizing: border-box;top: 0;bottom: 0;left: 50%;z-index: 0;}#sk-container-id-1 div.sk-serial {display: flex;flex-direction: column;align-items: center;background-color: white;padding-right: 0.2em;padding-left: 0.2em;position: relative;}#sk-container-id-1 div.sk-item {position: relative;z-index: 1;}#sk-container-id-1 div.sk-parallel {display: flex;align-items: stretch;justify-content: center;background-color: white;position: relative;}#sk-container-id-1 div.sk-item::before, #sk-container-id-1 div.sk-parallel-item::before {content: \"\";position: absolute;border-left: 1px solid gray;box-sizing: border-box;top: 0;bottom: 0;left: 50%;z-index: -1;}#sk-container-id-1 div.sk-parallel-item {display: flex;flex-direction: column;z-index: 1;position: relative;background-color: white;}#sk-container-id-1 div.sk-parallel-item:first-child::after {align-self: flex-end;width: 50%;}#sk-container-id-1 div.sk-parallel-item:last-child::after {align-self: flex-start;width: 50%;}#sk-container-id-1 div.sk-parallel-item:only-child::after {width: 0;}#sk-container-id-1 div.sk-dashed-wrapped {border: 1px dashed gray;margin: 0 0.4em 0.5em 0.4em;box-sizing: border-box;padding-bottom: 0.4em;background-color: white;}#sk-container-id-1 div.sk-label label {font-family: monospace;font-weight: bold;display: inline-block;line-height: 1.2em;}#sk-container-id-1 div.sk-label-container {text-align: center;}#sk-container-id-1 div.sk-container {/* jupyter's `normalize.less` sets `[hidden] { display: none; }` but bootstrap.min.css set `[hidden] { display: none !important; }` so we also need the `!important` here to be able to override the default hidden behavior on the sphinx rendered scikit-learn.org. See: https://github.com/scikit-learn/scikit-learn/issues/21755 */display: inline-block !important;position: relative;}#sk-container-id-1 div.sk-text-repr-fallback {display: none;}</style><div id=\"sk-container-id-1\" class=\"sk-top-container\"><div class=\"sk-text-repr-fallback\"><pre>KNeighborsClassifier(n_neighbors=3)</pre><b>In a Jupyter environment, please rerun this cell to show the HTML representation or trust the notebook. <br />On GitHub, the HTML representation is unable to render, please try loading this page with nbviewer.org.</b></div><div class=\"sk-container\" hidden><div class=\"sk-item\"><div class=\"sk-estimator sk-toggleable\"><input class=\"sk-toggleable__control sk-hidden--visually\" id=\"sk-estimator-id-1\" type=\"checkbox\" checked><label for=\"sk-estimator-id-1\" class=\"sk-toggleable__label sk-toggleable__label-arrow\">KNeighborsClassifier</label><div class=\"sk-toggleable__content\"><pre>KNeighborsClassifier(n_neighbors=3)</pre></div></div></div></div></div>"
      ],
      "text/plain": [
       "KNeighborsClassifier(n_neighbors=3)"
      ]
     },
     "execution_count": 4,
     "metadata": {},
     "output_type": "execute_result"
    }
   ],
   "source": [
    "classifier = KNeighborsClassifier(n_neighbors=3)\n",
    "classifier.fit(training_data, training_labels)"
   ]
  },
  {
   "cell_type": "markdown",
   "id": "d3fb9a8a",
   "metadata": {
    "papermill": {
     "duration": 0.005486,
     "end_time": "2023-06-23T08:28:59.992923",
     "exception": false,
     "start_time": "2023-06-23T08:28:59.987437",
     "status": "completed"
    },
    "tags": []
   },
   "source": [
    "# Test accuracy on validation set"
   ]
  },
  {
   "cell_type": "code",
   "execution_count": 5,
   "id": "8530e879",
   "metadata": {
    "execution": {
     "iopub.execute_input": "2023-06-23T08:29:00.006317Z",
     "iopub.status.busy": "2023-06-23T08:29:00.005862Z",
     "iopub.status.idle": "2023-06-23T08:29:00.089002Z",
     "shell.execute_reply": "2023-06-23T08:29:00.087709Z"
    },
    "papermill": {
     "duration": 0.093307,
     "end_time": "2023-06-23T08:29:00.091969",
     "exception": false,
     "start_time": "2023-06-23T08:28:59.998662",
     "status": "completed"
    },
    "tags": []
   },
   "outputs": [
    {
     "name": "stdout",
     "output_type": "stream",
     "text": [
      "0.9473684210526315\n"
     ]
    }
   ],
   "source": [
    "print(classifier.score(validation_data, validation_labels))"
   ]
  },
  {
   "cell_type": "markdown",
   "id": "ff23529e",
   "metadata": {
    "papermill": {
     "duration": 0.005553,
     "end_time": "2023-06-23T08:29:00.103557",
     "exception": false,
     "start_time": "2023-06-23T08:29:00.098004",
     "status": "completed"
    },
    "tags": []
   },
   "source": [
    "# For different values of k, we will calculate accuracies"
   ]
  },
  {
   "cell_type": "code",
   "execution_count": 6,
   "id": "0205a0c7",
   "metadata": {
    "execution": {
     "iopub.execute_input": "2023-06-23T08:29:00.117664Z",
     "iopub.status.busy": "2023-06-23T08:29:00.116980Z",
     "iopub.status.idle": "2023-06-23T08:29:00.960060Z",
     "shell.execute_reply": "2023-06-23T08:29:00.958979Z"
    },
    "papermill": {
     "duration": 0.853461,
     "end_time": "2023-06-23T08:29:00.962892",
     "exception": false,
     "start_time": "2023-06-23T08:29:00.109431",
     "status": "completed"
    },
    "tags": []
   },
   "outputs": [],
   "source": [
    "k_list = range(1,101)\n",
    "accuracies = []\n",
    "for k in k_list:\n",
    "    classifier = KNeighborsClassifier(n_neighbors=k)\n",
    "    classifier.fit(training_data, training_labels)\n",
    "    accuracies.append(classifier.score(validation_data, validation_labels))"
   ]
  },
  {
   "cell_type": "markdown",
   "id": "2a3a3597",
   "metadata": {
    "papermill": {
     "duration": 0.005713,
     "end_time": "2023-06-23T08:29:00.974877",
     "exception": false,
     "start_time": "2023-06-23T08:29:00.969164",
     "status": "completed"
    },
    "tags": []
   },
   "source": [
    "# Plot k-values vs corresponding accuracies"
   ]
  },
  {
   "cell_type": "code",
   "execution_count": 7,
   "id": "956ea2bd",
   "metadata": {
    "execution": {
     "iopub.execute_input": "2023-06-23T08:29:00.988895Z",
     "iopub.status.busy": "2023-06-23T08:29:00.988420Z",
     "iopub.status.idle": "2023-06-23T08:29:01.314227Z",
     "shell.execute_reply": "2023-06-23T08:29:01.313029Z"
    },
    "papermill": {
     "duration": 0.336348,
     "end_time": "2023-06-23T08:29:01.317181",
     "exception": false,
     "start_time": "2023-06-23T08:29:00.980833",
     "status": "completed"
    },
    "tags": []
   },
   "outputs": [
    {
     "data": {
      "image/png": "[encoded data removed]",
      "text/plain": [
       "<Figure size 640x480 with 1 Axes>"
      ]
     },
     "metadata": {},
     "output_type": "display_data"
    }
   ],
   "source": [
    "plt.plot(k_list, accuracies)\n",
    "plt.xlabel('k')\n",
    "plt.ylabel('validation Accuracy')\n",
    "plt.title('Breast Cancer Classifier Accuracy')\n",
    "plt.show()"
   ]
  },
  {
   "cell_type": "markdown",
   "id": "8f14c509",
   "metadata": {
    "papermill": {
     "duration": 0.006393,
     "end_time": "2023-06-23T08:29:01.330363",
     "exception": false,
     "start_time": "2023-06-23T08:29:01.323970",
     "status": "completed"
    },
    "tags": []
   },
   "source": [
    "# More Information\n",
    "**Underfitting**\n",
    "* Choosing too few neighbors\n",
    "\n",
    "**Overfitting**\n",
    "* Choosing too many neighbors\n",
    "\n",
    "**By finding a optimal k-value, we can then use it to create a final KNN clasifier in which we can expect much better generalization and accuracy on new and unseen data.**"
   ]
  }
 ],
 "metadata": {
  "kernelspec": {
   "display_name": "Python 3",
   "language": "python",
   "name": "python3"
  },
  "language_info": {
   "codemirror_mode": {
    "name": "ipython",
    "version": 3
   },
   "file_extension": ".py",
   "mimetype": "text/x-python",
   "name": "python",
   "nbconvert_exporter": "python",
   "pygments_lexer": "ipython3",
   "version": "3.10.10"
  },
  "papermill": {
   "default_parameters": {},
   "duration": 18.451534,
   "end_time": "2023-06-23T08:29:02.462405",
   "environment_variables": {},
   "exception": null,
   "input_path": "__notebook__.ipynb",
   "output_path": "__notebook__.ipynb",
   "parameters": {},
   "start_time": "2023-06-23T08:28:44.010871",
   "version": "2.4.0"
  }
 },
 "nbformat": 4,
 "nbformat_minor": 5
}
