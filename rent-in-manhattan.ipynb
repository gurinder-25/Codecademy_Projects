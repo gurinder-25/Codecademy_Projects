{
 "cells": [
  {
   "cell_type": "markdown",
   "id": "dc250dad",
   "metadata": {
    "papermill": {
     "duration": 0.005528,
     "end_time": "2023-06-23T08:18:45.926419",
     "exception": false,
     "start_time": "2023-06-23T08:18:45.920891",
     "status": "completed"
    },
    "tags": []
   },
   "source": [
    "# Rent In Manhattan"
   ]
  },
  {
   "cell_type": "markdown",
   "id": "ba3d9428",
   "metadata": {
    "papermill": {
     "duration": 0.004804,
     "end_time": "2023-06-23T08:18:45.936604",
     "exception": false,
     "start_time": "2023-06-23T08:18:45.931800",
     "status": "completed"
    },
    "tags": []
   },
   "source": [
    "**With this project, I aim to build a linear regression model to predict rent prices based on various features of Manhattan apartments.When making predictions for price, our dependent variable, we’ll want to use multiple independent variables. To do this, we’ll use Multiple Linear Regression.**"
   ]
  },
  {
   "cell_type": "markdown",
   "id": "9aa46e37",
   "metadata": {
    "papermill": {
     "duration": 0.004618,
     "end_time": "2023-06-23T08:18:45.946064",
     "exception": false,
     "start_time": "2023-06-23T08:18:45.941446",
     "status": "completed"
    },
    "tags": []
   },
   "source": [
    "# Multiple Regression\n",
    "**Multiple Linear Regression uses two or more independent variables to predict the values of the dependent variable.**"
   ]
  },
  {
   "cell_type": "markdown",
   "id": "66e5ac60",
   "metadata": {
    "papermill": {
     "duration": 0.004589,
     "end_time": "2023-06-23T08:18:45.955520",
     "exception": false,
     "start_time": "2023-06-23T08:18:45.950931",
     "status": "completed"
    },
    "tags": []
   },
   "source": [
    "**Steps :**\n",
    "* Load the dataset\n",
    "* Defining independant and dependant variables\n",
    "* Splitting into training and testing set\n",
    "* Fitting a linear regression model \n",
    "* Evaluating its performance\n",
    "* Scatter plot actual rent prices vs predicted rent prices"
   ]
  },
  {
   "cell_type": "markdown",
   "id": "d313b550",
   "metadata": {
    "papermill": {
     "duration": 0.004535,
     "end_time": "2023-06-23T08:18:45.964785",
     "exception": false,
     "start_time": "2023-06-23T08:18:45.960250",
     "status": "completed"
    },
    "tags": []
   },
   "source": [
    "# Load the dataset"
   ]
  },
  {
   "cell_type": "code",
   "execution_count": 1,
   "id": "4c26f87d",
   "metadata": {
    "execution": {
     "iopub.execute_input": "2023-06-23T08:18:45.976975Z",
     "iopub.status.busy": "2023-06-23T08:18:45.976111Z",
     "iopub.status.idle": "2023-06-23T08:18:47.506665Z",
     "shell.execute_reply": "2023-06-23T08:18:47.505728Z"
    },
    "papermill": {
     "duration": 1.539579,
     "end_time": "2023-06-23T08:18:47.509153",
     "exception": false,
     "start_time": "2023-06-23T08:18:45.969574",
     "status": "completed"
    },
    "tags": []
   },
   "outputs": [],
   "source": [
    "import matplotlib.pyplot as plt\n",
    "import pandas as pd\n",
    "from sklearn.model_selection import train_test_split\n",
    "from sklearn.linear_model import LinearRegression\n",
    "from sklearn.metrics import mean_squared_error\n",
    "\n",
    "streeteasy = pd.read_csv('/kaggle/input/streeteasy-dataset/manhattan.csv')\n",
    "df = pd.DataFrame(streeteasy)"
   ]
  },
  {
   "cell_type": "markdown",
   "id": "b2f87b5c",
   "metadata": {
    "papermill": {
     "duration": 0.004586,
     "end_time": "2023-06-23T08:18:47.518876",
     "exception": false,
     "start_time": "2023-06-23T08:18:47.514290",
     "status": "completed"
    },
    "tags": []
   },
   "source": [
    "# Define independent and dependent variables"
   ]
  },
  {
   "cell_type": "code",
   "execution_count": 2,
   "id": "becedc22",
   "metadata": {
    "execution": {
     "iopub.execute_input": "2023-06-23T08:18:47.532122Z",
     "iopub.status.busy": "2023-06-23T08:18:47.531438Z",
     "iopub.status.idle": "2023-06-23T08:18:47.548311Z",
     "shell.execute_reply": "2023-06-23T08:18:47.546924Z"
    },
    "papermill": {
     "duration": 0.025632,
     "end_time": "2023-06-23T08:18:47.550809",
     "exception": false,
     "start_time": "2023-06-23T08:18:47.525177",
     "status": "completed"
    },
    "tags": []
   },
   "outputs": [],
   "source": [
    "x = df[['bedrooms', 'bathrooms', 'size_sqft', 'min_to_subway', 'floor', 'building_age_yrs', 'no_fee', 'has_roofdeck', 'has_washer_dryer', 'has_doorman', 'has_elevator', 'has_dishwasher', 'has_patio', 'has_gym']]\n",
    "y = df[['rent']]"
   ]
  },
  {
   "cell_type": "markdown",
   "id": "abefb2a5",
   "metadata": {
    "papermill": {
     "duration": 0.004511,
     "end_time": "2023-06-23T08:18:47.560316",
     "exception": false,
     "start_time": "2023-06-23T08:18:47.555805",
     "status": "completed"
    },
    "tags": []
   },
   "source": [
    "# Splitting into training and testing set"
   ]
  },
  {
   "cell_type": "code",
   "execution_count": 3,
   "id": "f24e7555",
   "metadata": {
    "execution": {
     "iopub.execute_input": "2023-06-23T08:18:47.571585Z",
     "iopub.status.busy": "2023-06-23T08:18:47.571134Z",
     "iopub.status.idle": "2023-06-23T08:18:47.580621Z",
     "shell.execute_reply": "2023-06-23T08:18:47.579827Z"
    },
    "papermill": {
     "duration": 0.017844,
     "end_time": "2023-06-23T08:18:47.582790",
     "exception": false,
     "start_time": "2023-06-23T08:18:47.564946",
     "status": "completed"
    },
    "tags": []
   },
   "outputs": [],
   "source": [
    "x_train, x_test, y_train, y_test = train_test_split(x, y, train_size = 0.7, test_size = 0.3, random_state=6)"
   ]
  },
  {
   "cell_type": "markdown",
   "id": "b54fa1ac",
   "metadata": {
    "papermill": {
     "duration": 0.004656,
     "end_time": "2023-06-23T08:18:47.592370",
     "exception": false,
     "start_time": "2023-06-23T08:18:47.587714",
     "status": "completed"
    },
    "tags": []
   },
   "source": [
    "# Fitting a Linear regression model"
   ]
  },
  {
   "cell_type": "code",
   "execution_count": 4,
   "id": "34af2b18",
   "metadata": {
    "execution": {
     "iopub.execute_input": "2023-06-23T08:18:47.604703Z",
     "iopub.status.busy": "2023-06-23T08:18:47.603471Z",
     "iopub.status.idle": "2023-06-23T08:18:47.650062Z",
     "shell.execute_reply": "2023-06-23T08:18:47.648513Z"
    },
    "papermill": {
     "duration": 0.057127,
     "end_time": "2023-06-23T08:18:47.654344",
     "exception": false,
     "start_time": "2023-06-23T08:18:47.597217",
     "status": "completed"
    },
    "tags": []
   },
   "outputs": [],
   "source": [
    "lm = LinearRegression()\n",
    "lm.fit(x_train, y_train)\n",
    "y_predict = lm.predict(x_test)"
   ]
  },
  {
   "cell_type": "markdown",
   "id": "8c750a1a",
   "metadata": {
    "papermill": {
     "duration": 0.015629,
     "end_time": "2023-06-23T08:18:47.681174",
     "exception": false,
     "start_time": "2023-06-23T08:18:47.665545",
     "status": "completed"
    },
    "tags": []
   },
   "source": [
    "# Evaluating its performance"
   ]
  },
  {
   "cell_type": "code",
   "execution_count": 5,
   "id": "9df8804f",
   "metadata": {
    "execution": {
     "iopub.execute_input": "2023-06-23T08:18:47.722523Z",
     "iopub.status.busy": "2023-06-23T08:18:47.721763Z",
     "iopub.status.idle": "2023-06-23T08:18:47.750516Z",
     "shell.execute_reply": "2023-06-23T08:18:47.749057Z"
    },
    "papermill": {
     "duration": 0.050284,
     "end_time": "2023-06-23T08:18:47.754381",
     "exception": false,
     "start_time": "2023-06-23T08:18:47.704097",
     "status": "completed"
    },
    "tags": []
   },
   "outputs": [
    {
     "name": "stdout",
     "output_type": "stream",
     "text": [
      "Train score: \n",
      "0.7685752780205813\n",
      "Test score: \n",
      "0.8032254747648352\n"
     ]
    }
   ],
   "source": [
    "print(\"Train score: \")\n",
    "print(lm.score(x_train, y_train))\n",
    "\n",
    "print(\"Test score: \")\n",
    "print(lm.score(x_test, y_test))"
   ]
  },
  {
   "cell_type": "markdown",
   "id": "b45b0cc2",
   "metadata": {
    "papermill": {
     "duration": 0.009637,
     "end_time": "2023-06-23T08:18:47.774255",
     "exception": false,
     "start_time": "2023-06-23T08:18:47.764618",
     "status": "completed"
    },
    "tags": []
   },
   "source": [
    "# Scatter plot actual rent prices vs predicted rent prices"
   ]
  },
  {
   "cell_type": "code",
   "execution_count": 6,
   "id": "8317bfca",
   "metadata": {
    "execution": {
     "iopub.execute_input": "2023-06-23T08:18:47.796331Z",
     "iopub.status.busy": "2023-06-23T08:18:47.795645Z",
     "iopub.status.idle": "2023-06-23T08:18:48.301387Z",
     "shell.execute_reply": "2023-06-23T08:18:48.300141Z"
    },
    "papermill": {
     "duration": 0.520113,
     "end_time": "2023-06-23T08:18:48.304068",
     "exception": false,
     "start_time": "2023-06-23T08:18:47.783955",
     "status": "completed"
    },
    "tags": []
   },
   "outputs": [
    {
     "data": {
      "image/png": "[encoded data removed]",
      "text/plain": [
       "<Figure size 640x480 with 1 Axes>"
      ]
     },
     "metadata": {},
     "output_type": "display_data"
    }
   ],
   "source": [
    "plt.scatter(y_test, y_predict)\n",
    "plt.plot(range(20000), range(20000))\n",
    "plt.xlabel(\"Prices: $Y_i$\")\n",
    "plt.ylabel(\"Predicted prices: $\\hat{Y}_i$\")\n",
    "plt.title(\"Actual Rent vs Predicted Rent\")\n",
    "plt.show()"
   ]
  }
 ],
 "metadata": {
  "kernelspec": {
   "display_name": "Python 3",
   "language": "python",
   "name": "python3"
  },
  "language_info": {
   "codemirror_mode": {
    "name": "ipython",
    "version": 3
   },
   "file_extension": ".py",
   "mimetype": "text/x-python",
   "name": "python",
   "nbconvert_exporter": "python",
   "pygments_lexer": "ipython3",
   "version": "3.10.10"
  },
  "papermill": {
   "default_parameters": {},
   "duration": 16.292182,
   "end_time": "2023-06-23T08:18:49.232023",
   "environment_variables": {},
   "exception": null,
   "input_path": "__notebook__.ipynb",
   "output_path": "__notebook__.ipynb",
   "parameters": {},
   "start_time": "2023-06-23T08:18:32.939841",
   "version": "2.4.0"
  }
 },
 "nbformat": 4,
 "nbformat_minor": 5
}
