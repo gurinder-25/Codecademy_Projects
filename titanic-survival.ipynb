{
 "cells": [
  {
   "cell_type": "markdown",
   "id": "263cfda2",
   "metadata": {
    "papermill": {
     "duration": 0.007962,
     "end_time": "2023-06-23T08:39:00.110257",
     "exception": false,
     "start_time": "2023-06-23T08:39:00.102295",
     "status": "completed"
    },
    "tags": []
   },
   "source": [
    "# Titanic Survival"
   ]
  },
  {
   "cell_type": "markdown",
   "id": "cd728b3e",
   "metadata": {
    "papermill": {
     "duration": 0.006736,
     "end_time": "2023-06-23T08:39:00.124286",
     "exception": false,
     "start_time": "2023-06-23T08:39:00.117550",
     "status": "completed"
    },
    "tags": []
   },
   "source": [
    "**The core purpose of this program is to build a logistic regression model to predict the survival of passengers on the Titanic based on various features.**"
   ]
  },
  {
   "cell_type": "markdown",
   "id": "934aaf97",
   "metadata": {
    "papermill": {
     "duration": 0.00669,
     "end_time": "2023-06-23T08:39:00.137879",
     "exception": false,
     "start_time": "2023-06-23T08:39:00.131189",
     "status": "completed"
    },
    "tags": []
   },
   "source": [
    "# Logistic Regression\n",
    "**Logistic regression is a binary classification algorithm that models the relationship between input variables and the probability of belonging to a certain class, using a logistic or sigmoid function to map the input space to a probability space. It estimates the log odds of a data point belonging to the positive class and allows for the interpretation of feature importance based on the coefficients of the model.**"
   ]
  },
  {
   "cell_type": "markdown",
   "id": "b21a8d6c",
   "metadata": {
    "papermill": {
     "duration": 0.006734,
     "end_time": "2023-06-23T08:39:00.151587",
     "exception": false,
     "start_time": "2023-06-23T08:39:00.144853",
     "status": "completed"
    },
    "tags": []
   },
   "source": [
    "**Steps:**\n",
    "* Load the Dataset\n",
    "* Coverting categorical variable to numerical\n",
    "* Handling missing values\n",
    "* Creating new feature columns\n",
    "* Defining independant and dependant variables\n",
    "* Split the data into training and testing set\n",
    "* Normalize the data\n",
    "* Create a Logistic Regression model and train it\n",
    "* Calculate its score\n",
    "* Analyze the coefficients\n",
    "* Testing it on sample features"
   ]
  },
  {
   "cell_type": "markdown",
   "id": "84ceb93a",
   "metadata": {
    "papermill": {
     "duration": 0.008404,
     "end_time": "2023-06-23T08:39:00.166879",
     "exception": false,
     "start_time": "2023-06-23T08:39:00.158475",
     "status": "completed"
    },
    "tags": []
   },
   "source": [
    "# Load the Dataset"
   ]
  },
  {
   "cell_type": "code",
   "execution_count": 1,
   "id": "9be29ed0",
   "metadata": {
    "execution": {
     "iopub.execute_input": "2023-06-23T08:39:00.183203Z",
     "iopub.status.busy": "2023-06-23T08:39:00.182722Z",
     "iopub.status.idle": "2023-06-23T08:39:01.733122Z",
     "shell.execute_reply": "2023-06-23T08:39:01.732173Z"
    },
    "papermill": {
     "duration": 1.562351,
     "end_time": "2023-06-23T08:39:01.736205",
     "exception": false,
     "start_time": "2023-06-23T08:39:00.173854",
     "status": "completed"
    },
    "tags": []
   },
   "outputs": [],
   "source": [
    "import pandas as pd\n",
    "import numpy as np\n",
    "import matplotlib.pyplot as plt\n",
    "from sklearn.linear_model import LogisticRegression\n",
    "from sklearn.model_selection import train_test_split\n",
    "from sklearn.preprocessing import StandardScaler\n",
    "passengers = pd.read_csv('/kaggle/input/data-science-day1-titanic/DSB_Day1_Titanic_train.csv')"
   ]
  },
  {
   "cell_type": "markdown",
   "id": "8be92739",
   "metadata": {
    "papermill": {
     "duration": 0.007366,
     "end_time": "2023-06-23T08:39:01.751433",
     "exception": false,
     "start_time": "2023-06-23T08:39:01.744067",
     "status": "completed"
    },
    "tags": []
   },
   "source": [
    "# Coverting categorical variable to numerical "
   ]
  },
  {
   "cell_type": "code",
   "execution_count": 2,
   "id": "ce13b201",
   "metadata": {
    "execution": {
     "iopub.execute_input": "2023-06-23T08:39:01.769196Z",
     "iopub.status.busy": "2023-06-23T08:39:01.768044Z",
     "iopub.status.idle": "2023-06-23T08:39:01.784829Z",
     "shell.execute_reply": "2023-06-23T08:39:01.783629Z"
    },
    "papermill": {
     "duration": 0.028822,
     "end_time": "2023-06-23T08:39:01.787765",
     "exception": false,
     "start_time": "2023-06-23T08:39:01.758943",
     "status": "completed"
    },
    "tags": []
   },
   "outputs": [],
   "source": [
    "passengers['Sex'] = passengers['Sex'].map({'female': 1, 'male': 0})"
   ]
  },
  {
   "cell_type": "markdown",
   "id": "7ee8c8f4",
   "metadata": {
    "papermill": {
     "duration": 0.007134,
     "end_time": "2023-06-23T08:39:01.802616",
     "exception": false,
     "start_time": "2023-06-23T08:39:01.795482",
     "status": "completed"
    },
    "tags": []
   },
   "source": [
    "# Handling missing values"
   ]
  },
  {
   "cell_type": "code",
   "execution_count": 3,
   "id": "9e82b716",
   "metadata": {
    "execution": {
     "iopub.execute_input": "2023-06-23T08:39:01.819453Z",
     "iopub.status.busy": "2023-06-23T08:39:01.819050Z",
     "iopub.status.idle": "2023-06-23T08:39:01.826260Z",
     "shell.execute_reply": "2023-06-23T08:39:01.825090Z"
    },
    "papermill": {
     "duration": 0.0187,
     "end_time": "2023-06-23T08:39:01.828846",
     "exception": false,
     "start_time": "2023-06-23T08:39:01.810146",
     "status": "completed"
    },
    "tags": []
   },
   "outputs": [],
   "source": [
    "passengers['Age'].fillna(value=passengers['Age'].mean(), inplace=True)"
   ]
  },
  {
   "cell_type": "markdown",
   "id": "ecc1ab8b",
   "metadata": {
    "papermill": {
     "duration": 0.007251,
     "end_time": "2023-06-23T08:39:01.843762",
     "exception": false,
     "start_time": "2023-06-23T08:39:01.836511",
     "status": "completed"
    },
    "tags": []
   },
   "source": [
    "# Creating new feature columns"
   ]
  },
  {
   "cell_type": "code",
   "execution_count": 4,
   "id": "959e5666",
   "metadata": {
    "execution": {
     "iopub.execute_input": "2023-06-23T08:39:01.860486Z",
     "iopub.status.busy": "2023-06-23T08:39:01.860055Z",
     "iopub.status.idle": "2023-06-23T08:39:01.870066Z",
     "shell.execute_reply": "2023-06-23T08:39:01.868739Z"
    },
    "papermill": {
     "duration": 0.021232,
     "end_time": "2023-06-23T08:39:01.872517",
     "exception": false,
     "start_time": "2023-06-23T08:39:01.851285",
     "status": "completed"
    },
    "tags": []
   },
   "outputs": [],
   "source": [
    "passengers['FirstClass'] = passengers['Pclass'].apply(lambda x: 1 if x==1 else 0)\n",
    "passengers['SecondClass'] = passengers['Pclass'].apply(lambda x: 1 if x==2 else 0)"
   ]
  },
  {
   "cell_type": "markdown",
   "id": "c19fe014",
   "metadata": {
    "papermill": {
     "duration": 0.006824,
     "end_time": "2023-06-23T08:39:01.886861",
     "exception": false,
     "start_time": "2023-06-23T08:39:01.880037",
     "status": "completed"
    },
    "tags": []
   },
   "source": [
    "# Defining independant and dependant variables"
   ]
  },
  {
   "cell_type": "code",
   "execution_count": 5,
   "id": "2c139682",
   "metadata": {
    "execution": {
     "iopub.execute_input": "2023-06-23T08:39:01.903489Z",
     "iopub.status.busy": "2023-06-23T08:39:01.903020Z",
     "iopub.status.idle": "2023-06-23T08:39:01.913195Z",
     "shell.execute_reply": "2023-06-23T08:39:01.912315Z"
    },
    "papermill": {
     "duration": 0.021467,
     "end_time": "2023-06-23T08:39:01.915463",
     "exception": false,
     "start_time": "2023-06-23T08:39:01.893996",
     "status": "completed"
    },
    "tags": []
   },
   "outputs": [],
   "source": [
    "features = passengers[['Sex', 'Age', 'FirstClass', 'SecondClass']]\n",
    "survival = passengers['Survived']"
   ]
  },
  {
   "cell_type": "markdown",
   "id": "4e885a02",
   "metadata": {
    "papermill": {
     "duration": 0.006698,
     "end_time": "2023-06-23T08:39:01.929234",
     "exception": false,
     "start_time": "2023-06-23T08:39:01.922536",
     "status": "completed"
    },
    "tags": []
   },
   "source": [
    "# Split the data into training and testing set"
   ]
  },
  {
   "cell_type": "code",
   "execution_count": 6,
   "id": "ca46f1aa",
   "metadata": {
    "execution": {
     "iopub.execute_input": "2023-06-23T08:39:01.945314Z",
     "iopub.status.busy": "2023-06-23T08:39:01.944837Z",
     "iopub.status.idle": "2023-06-23T08:39:01.952950Z",
     "shell.execute_reply": "2023-06-23T08:39:01.952095Z"
    },
    "papermill": {
     "duration": 0.019195,
     "end_time": "2023-06-23T08:39:01.955310",
     "exception": false,
     "start_time": "2023-06-23T08:39:01.936115",
     "status": "completed"
    },
    "tags": []
   },
   "outputs": [],
   "source": [
    "train_features, test_features, train_labels, test_labels = train_test_split(features, survival, test_size=0.2, random_state=1)"
   ]
  },
  {
   "cell_type": "markdown",
   "id": "f07fd94f",
   "metadata": {
    "papermill": {
     "duration": 0.006811,
     "end_time": "2023-06-23T08:39:01.969263",
     "exception": false,
     "start_time": "2023-06-23T08:39:01.962452",
     "status": "completed"
    },
    "tags": []
   },
   "source": [
    "# Normalize the data"
   ]
  },
  {
   "cell_type": "code",
   "execution_count": 7,
   "id": "44f13cf6",
   "metadata": {
    "execution": {
     "iopub.execute_input": "2023-06-23T08:39:01.986111Z",
     "iopub.status.busy": "2023-06-23T08:39:01.984949Z",
     "iopub.status.idle": "2023-06-23T08:39:01.997650Z",
     "shell.execute_reply": "2023-06-23T08:39:01.996463Z"
    },
    "papermill": {
     "duration": 0.02379,
     "end_time": "2023-06-23T08:39:02.000126",
     "exception": false,
     "start_time": "2023-06-23T08:39:01.976336",
     "status": "completed"
    },
    "tags": []
   },
   "outputs": [],
   "source": [
    "scaler = StandardScaler()\n",
    "train_features = scaler.fit_transform(train_features)\n",
    "test_features = scaler.transform(test_features)"
   ]
  },
  {
   "cell_type": "markdown",
   "id": "812cde61",
   "metadata": {
    "papermill": {
     "duration": 0.007713,
     "end_time": "2023-06-23T08:39:02.018900",
     "exception": false,
     "start_time": "2023-06-23T08:39:02.011187",
     "status": "completed"
    },
    "tags": []
   },
   "source": [
    "# Create a Logistic Regression model and train it"
   ]
  },
  {
   "cell_type": "code",
   "execution_count": 8,
   "id": "4d8720dc",
   "metadata": {
    "execution": {
     "iopub.execute_input": "2023-06-23T08:39:02.036069Z",
     "iopub.status.busy": "2023-06-23T08:39:02.035196Z",
     "iopub.status.idle": "2023-06-23T08:39:02.065777Z",
     "shell.execute_reply": "2023-06-23T08:39:02.064432Z"
    },
    "papermill": {
     "duration": 0.041845,
     "end_time": "2023-06-23T08:39:02.068159",
     "exception": false,
     "start_time": "2023-06-23T08:39:02.026314",
     "status": "completed"
    },
    "tags": []
   },
   "outputs": [
    {
     "data": {
      "text/html": [
       "<style>#sk-container-id-1 {color: black;background-color: white;}#sk-container-id-1 pre{padding: 0;}#sk-container-id-1 div.sk-toggleable {background-color: white;}#sk-container-id-1 label.sk-toggleable__label {cursor: pointer;display: block;width: 100%;margin-bottom: 0;padding: 0.3em;box-sizing: border-box;text-align: center;}#sk-container-id-1 label.sk-toggleable__label-arrow:before {content: \"▸\";float: left;margin-right: 0.25em;color: #696969;}#sk-container-id-1 label.sk-toggleable__label-arrow:hover:before {color: black;}#sk-container-id-1 div.sk-estimator:hover label.sk-toggleable__label-arrow:before {color: black;}#sk-container-id-1 div.sk-toggleable__content {max-height: 0;max-width: 0;overflow: hidden;text-align: left;background-color: #f0f8ff;}#sk-container-id-1 div.sk-toggleable__content pre {margin: 0.2em;color: black;border-radius: 0.25em;background-color: #f0f8ff;}#sk-container-id-1 input.sk-toggleable__control:checked~div.sk-toggleable__content {max-height: 200px;max-width: 100%;overflow: auto;}#sk-container-id-1 input.sk-toggleable__control:checked~label.sk-toggleable__label-arrow:before {content: \"▾\";}#sk-container-id-1 div.sk-estimator input.sk-toggleable__control:checked~label.sk-toggleable__label {background-color: #d4ebff;}#sk-container-id-1 div.sk-label input.sk-toggleable__control:checked~label.sk-toggleable__label {background-color: #d4ebff;}#sk-container-id-1 input.sk-hidden--visually {border: 0;clip: rect(1px 1px 1px 1px);clip: rect(1px, 1px, 1px, 1px);height: 1px;margin: -1px;overflow: hidden;padding: 0;position: absolute;width: 1px;}#sk-container-id-1 div.sk-estimator {font-family: monospace;background-color: #f0f8ff;border: 1px dotted black;border-radius: 0.25em;box-sizing: border-box;margin-bottom: 0.5em;}#sk-container-id-1 div.sk-estimator:hover {background-color: #d4ebff;}#sk-container-id-1 div.sk-parallel-item::after {content: \"\";width: 100%;border-bottom: 1px solid gray;flex-grow: 1;}#sk-container-id-1 div.sk-label:hover label.sk-toggleable__label {background-color: #d4ebff;}#sk-container-id-1 div.sk-serial::before {content: \"\";position: absolute;border-left: 1px solid gray;box-sizing: border-box;top: 0;bottom: 0;left: 50%;z-index: 0;}#sk-container-id-1 div.sk-serial {display: flex;flex-direction: column;align-items: center;background-color: white;padding-right: 0.2em;padding-left: 0.2em;position: relative;}#sk-container-id-1 div.sk-item {position: relative;z-index: 1;}#sk-container-id-1 div.sk-parallel {display: flex;align-items: stretch;justify-content: center;background-color: white;position: relative;}#sk-container-id-1 div.sk-item::before, #sk-container-id-1 div.sk-parallel-item::before {content: \"\";position: absolute;border-left: 1px solid gray;box-sizing: border-box;top: 0;bottom: 0;left: 50%;z-index: -1;}#sk-container-id-1 div.sk-parallel-item {display: flex;flex-direction: column;z-index: 1;position: relative;background-color: white;}#sk-container-id-1 div.sk-parallel-item:first-child::after {align-self: flex-end;width: 50%;}#sk-container-id-1 div.sk-parallel-item:last-child::after {align-self: flex-start;width: 50%;}#sk-container-id-1 div.sk-parallel-item:only-child::after {width: 0;}#sk-container-id-1 div.sk-dashed-wrapped {border: 1px dashed gray;margin: 0 0.4em 0.5em 0.4em;box-sizing: border-box;padding-bottom: 0.4em;background-color: white;}#sk-container-id-1 div.sk-label label {font-family: monospace;font-weight: bold;display: inline-block;line-height: 1.2em;}#sk-container-id-1 div.sk-label-container {text-align: center;}#sk-container-id-1 div.sk-container {/* jupyter's `normalize.less` sets `[hidden] { display: none; }` but bootstrap.min.css set `[hidden] { display: none !important; }` so we also need the `!important` here to be able to override the default hidden behavior on the sphinx rendered scikit-learn.org. See: https://github.com/scikit-learn/scikit-learn/issues/21755 */display: inline-block !important;position: relative;}#sk-container-id-1 div.sk-text-repr-fallback {display: none;}</style><div id=\"sk-container-id-1\" class=\"sk-top-container\"><div class=\"sk-text-repr-fallback\"><pre>LogisticRegression()</pre><b>In a Jupyter environment, please rerun this cell to show the HTML representation or trust the notebook. <br />On GitHub, the HTML representation is unable to render, please try loading this page with nbviewer.org.</b></div><div class=\"sk-container\" hidden><div class=\"sk-item\"><div class=\"sk-estimator sk-toggleable\"><input class=\"sk-toggleable__control sk-hidden--visually\" id=\"sk-estimator-id-1\" type=\"checkbox\" checked><label for=\"sk-estimator-id-1\" class=\"sk-toggleable__label sk-toggleable__label-arrow\">LogisticRegression</label><div class=\"sk-toggleable__content\"><pre>LogisticRegression()</pre></div></div></div></div></div>"
      ],
      "text/plain": [
       "LogisticRegression()"
      ]
     },
     "execution_count": 8,
     "metadata": {},
     "output_type": "execute_result"
    }
   ],
   "source": [
    "model = LogisticRegression()\n",
    "model.fit(train_features, train_labels)"
   ]
  },
  {
   "cell_type": "markdown",
   "id": "097b8f9d",
   "metadata": {
    "papermill": {
     "duration": 0.007136,
     "end_time": "2023-06-23T08:39:02.083820",
     "exception": false,
     "start_time": "2023-06-23T08:39:02.076684",
     "status": "completed"
    },
    "tags": []
   },
   "source": [
    "# Calculate its score"
   ]
  },
  {
   "cell_type": "code",
   "execution_count": 9,
   "id": "a74b2560",
   "metadata": {
    "execution": {
     "iopub.execute_input": "2023-06-23T08:39:02.100498Z",
     "iopub.status.busy": "2023-06-23T08:39:02.100049Z",
     "iopub.status.idle": "2023-06-23T08:39:02.110624Z",
     "shell.execute_reply": "2023-06-23T08:39:02.109319Z"
    },
    "papermill": {
     "duration": 0.021889,
     "end_time": "2023-06-23T08:39:02.113029",
     "exception": false,
     "start_time": "2023-06-23T08:39:02.091140",
     "status": "completed"
    },
    "tags": []
   },
   "outputs": [
    {
     "name": "stdout",
     "output_type": "stream",
     "text": [
      "Traing score:  0.797752808988764\n",
      "Test score:  0.8044692737430168\n"
     ]
    }
   ],
   "source": [
    "train_score = model.score(train_features, train_labels)\n",
    "print(\"Traing score: \", train_score)\n",
    "test_score = model.score(test_features, test_labels)\n",
    "print(\"Test score: \", test_score)"
   ]
  },
  {
   "cell_type": "markdown",
   "id": "1f4e5281",
   "metadata": {
    "papermill": {
     "duration": 0.007723,
     "end_time": "2023-06-23T08:39:02.129042",
     "exception": false,
     "start_time": "2023-06-23T08:39:02.121319",
     "status": "completed"
    },
    "tags": []
   },
   "source": [
    "# Analyze the coefficients"
   ]
  },
  {
   "cell_type": "markdown",
   "id": "5acdc90b",
   "metadata": {
    "papermill": {
     "duration": 0.008009,
     "end_time": "2023-06-23T08:39:02.145056",
     "exception": false,
     "start_time": "2023-06-23T08:39:02.137047",
     "status": "completed"
    },
    "tags": []
   },
   "source": [
    "**This shows us the direction of influence as well as importance of each feature.**"
   ]
  },
  {
   "cell_type": "code",
   "execution_count": 10,
   "id": "76c574e5",
   "metadata": {
    "execution": {
     "iopub.execute_input": "2023-06-23T08:39:02.163263Z",
     "iopub.status.busy": "2023-06-23T08:39:02.162820Z",
     "iopub.status.idle": "2023-06-23T08:39:02.170069Z",
     "shell.execute_reply": "2023-06-23T08:39:02.168481Z"
    },
    "papermill": {
     "duration": 0.019711,
     "end_time": "2023-06-23T08:39:02.172847",
     "exception": false,
     "start_time": "2023-06-23T08:39:02.153136",
     "status": "completed"
    },
    "tags": []
   },
   "outputs": [
    {
     "name": "stdout",
     "output_type": "stream",
     "text": [
      "Features coefficients:  [('Sex', 1.250615605094831), ('Age', -0.4567407696113751), ('FirstClass', 1.0280610392158223), ('SecondClass', 0.5521318339093749)]\n"
     ]
    }
   ],
   "source": [
    "print(\"Features coefficients: \", list(zip(['Sex', 'Age', 'FirstClass', 'SecondClass'], model.coef_[0])))"
   ]
  },
  {
   "cell_type": "markdown",
   "id": "b5eab75c",
   "metadata": {
    "papermill": {
     "duration": 0.008452,
     "end_time": "2023-06-23T08:39:02.189613",
     "exception": false,
     "start_time": "2023-06-23T08:39:02.181161",
     "status": "completed"
    },
    "tags": []
   },
   "source": [
    "# Testing it on sample features"
   ]
  },
  {
   "cell_type": "code",
   "execution_count": 11,
   "id": "13231d50",
   "metadata": {
    "execution": {
     "iopub.execute_input": "2023-06-23T08:39:02.208970Z",
     "iopub.status.busy": "2023-06-23T08:39:02.208535Z",
     "iopub.status.idle": "2023-06-23T08:39:02.218496Z",
     "shell.execute_reply": "2023-06-23T08:39:02.217089Z"
    },
    "papermill": {
     "duration": 0.022061,
     "end_time": "2023-06-23T08:39:02.220714",
     "exception": false,
     "start_time": "2023-06-23T08:39:02.198653",
     "status": "completed"
    },
    "tags": []
   },
   "outputs": [
    {
     "name": "stderr",
     "output_type": "stream",
     "text": [
      "/opt/conda/lib/python3.10/site-packages/sklearn/base.py:439: UserWarning: X does not have valid feature names, but StandardScaler was fitted with feature names\n",
      "  warnings.warn(\n"
     ]
    }
   ],
   "source": [
    "Jack = np.array([0.0, 20.0, 0.0, 0.0])\n",
    "Rose = np.array([1.0, 17.0, 1.0, 0.0])\n",
    "You =  np.array([0.0, 25.0, 1.0, 0.0])\n",
    "#combine passenger arrays\n",
    "sample_passengers = np.array([Jack, Rose, You])\n",
    "#scale the sample passenger features\n",
    "sample_passengers = scaler.transform(sample_passengers)"
   ]
  },
  {
   "cell_type": "code",
   "execution_count": 12,
   "id": "c1d80059",
   "metadata": {
    "execution": {
     "iopub.execute_input": "2023-06-23T08:39:02.238956Z",
     "iopub.status.busy": "2023-06-23T08:39:02.238575Z",
     "iopub.status.idle": "2023-06-23T08:39:02.246714Z",
     "shell.execute_reply": "2023-06-23T08:39:02.245518Z"
    },
    "papermill": {
     "duration": 0.020038,
     "end_time": "2023-06-23T08:39:02.249101",
     "exception": false,
     "start_time": "2023-06-23T08:39:02.229063",
     "status": "completed"
    },
    "tags": []
   },
   "outputs": [
    {
     "name": "stdout",
     "output_type": "stream",
     "text": [
      "Survival predictions:  [0 1 1]\n",
      "Survival probabilities:  [[0.8947279  0.1052721 ]\n",
      " [0.04841785 0.95158215]\n",
      " [0.47996417 0.52003583]]\n"
     ]
    }
   ],
   "source": [
    "#survival predictions\n",
    "predictions = model.predict(sample_passengers)\n",
    "print(\"Survival predictions: \", predictions)\n",
    "#survival probabilities\n",
    "proba_predictions = model.predict_proba(sample_passengers)\n",
    "print(\"Survival probabilities: \", proba_predictions)"
   ]
  }
 ],
 "metadata": {
  "kernelspec": {
   "display_name": "Python 3",
   "language": "python",
   "name": "python3"
  },
  "language_info": {
   "codemirror_mode": {
    "name": "ipython",
    "version": 3
   },
   "file_extension": ".py",
   "mimetype": "text/x-python",
   "name": "python",
   "nbconvert_exporter": "python",
   "pygments_lexer": "ipython3",
   "version": "3.10.10"
  },
  "papermill": {
   "default_parameters": {},
   "duration": 17.788495,
   "end_time": "2023-06-23T08:39:05.541604",
   "environment_variables": {},
   "exception": null,
   "input_path": "__notebook__.ipynb",
   "output_path": "__notebook__.ipynb",
   "parameters": {},
   "start_time": "2023-06-23T08:38:47.753109",
   "version": "2.4.0"
  }
 },
 "nbformat": 4,
 "nbformat_minor": 5
}
