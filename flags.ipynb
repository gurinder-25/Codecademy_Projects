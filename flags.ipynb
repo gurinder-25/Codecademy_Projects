{
 "cells": [
  {
   "cell_type": "markdown",
   "id": "351e6147",
   "metadata": {
    "papermill": {
     "duration": 0.00569,
     "end_time": "2023-06-23T08:45:40.363479",
     "exception": false,
     "start_time": "2023-06-23T08:45:40.357789",
     "status": "completed"
    },
    "tags": []
   },
   "source": [
    "# Flags"
   ]
  },
  {
   "cell_type": "markdown",
   "id": "1eea8285",
   "metadata": {
    "papermill": {
     "duration": 0.004773,
     "end_time": "2023-06-23T08:45:40.373473",
     "exception": false,
     "start_time": "2023-06-23T08:45:40.368700",
     "status": "completed"
    },
    "tags": []
   },
   "source": [
    "**The core purpose of this program is to train a decision tree classifier to predict the country's flag based on certain flag features.**"
   ]
  },
  {
   "cell_type": "markdown",
   "id": "7b4936ff",
   "metadata": {
    "papermill": {
     "duration": 0.004965,
     "end_time": "2023-06-23T08:45:40.383695",
     "exception": false,
     "start_time": "2023-06-23T08:45:40.378730",
     "status": "completed"
    },
    "tags": []
   },
   "source": [
    "# Decision Tree\n",
    "**A decision tree is a supervised machine learning algorithm that partitions the feature space into segments based on the values of input features. It constructs a hierarchical structure of if-else decision rules, represented as a tree, to make predictions or classify instances by following a path from the root node to the leaf nodes, where each node represents a feature and each branch represents a possible feature value or outcome.**"
   ]
  },
  {
   "cell_type": "markdown",
   "id": "2f1bb86f",
   "metadata": {
    "papermill": {
     "duration": 0.004722,
     "end_time": "2023-06-23T08:45:40.393720",
     "exception": false,
     "start_time": "2023-06-23T08:45:40.388998",
     "status": "completed"
    },
    "tags": []
   },
   "source": [
    "**Steps:**\n",
    "* Load the dataset\n",
    "* Prepare Data and Labels\n",
    "* Split the Data and Labels into Training and testing set\n",
    "* Create a Decision Tree Classifier model and train it\n",
    "* Evaluate the accuracy of the model\n",
    "* Explore model's performance by adjusting maximum depth"
   ]
  },
  {
   "cell_type": "markdown",
   "id": "0488f67b",
   "metadata": {
    "papermill": {
     "duration": 0.004581,
     "end_time": "2023-06-23T08:45:40.403261",
     "exception": false,
     "start_time": "2023-06-23T08:45:40.398680",
     "status": "completed"
    },
    "tags": []
   },
   "source": [
    "# Load the dataset"
   ]
  },
  {
   "cell_type": "code",
   "execution_count": 1,
   "id": "0ed45eeb",
   "metadata": {
    "execution": {
     "iopub.execute_input": "2023-06-23T08:45:40.415927Z",
     "iopub.status.busy": "2023-06-23T08:45:40.415011Z",
     "iopub.status.idle": "2023-06-23T08:45:42.459758Z",
     "shell.execute_reply": "2023-06-23T08:45:42.458252Z"
    },
    "papermill": {
     "duration": 2.054319,
     "end_time": "2023-06-23T08:45:42.462634",
     "exception": false,
     "start_time": "2023-06-23T08:45:40.408315",
     "status": "completed"
    },
    "tags": []
   },
   "outputs": [],
   "source": [
    "import pandas as pd\n",
    "from sklearn.model_selection import train_test_split\n",
    "from sklearn.tree import DecisionTreeClassifier\n",
    "import matplotlib.pyplot as plt\n",
    "\n",
    "flags = pd.read_csv('/kaggle/input/flags/flags.csv', header=0)"
   ]
  },
  {
   "cell_type": "markdown",
   "id": "856771a1",
   "metadata": {
    "papermill": {
     "duration": 0.005104,
     "end_time": "2023-06-23T08:45:42.472811",
     "exception": false,
     "start_time": "2023-06-23T08:45:42.467707",
     "status": "completed"
    },
    "tags": []
   },
   "source": [
    "# Prepare Data and Labels"
   ]
  },
  {
   "cell_type": "code",
   "execution_count": 2,
   "id": "ec8c6ac0",
   "metadata": {
    "execution": {
     "iopub.execute_input": "2023-06-23T08:45:42.486457Z",
     "iopub.status.busy": "2023-06-23T08:45:42.486036Z",
     "iopub.status.idle": "2023-06-23T08:45:42.506475Z",
     "shell.execute_reply": "2023-06-23T08:45:42.505100Z"
    },
    "papermill": {
     "duration": 0.029966,
     "end_time": "2023-06-23T08:45:42.509498",
     "exception": false,
     "start_time": "2023-06-23T08:45:42.479532",
     "status": "completed"
    },
    "tags": []
   },
   "outputs": [],
   "source": [
    "labels = flags[[\"Landmass\"]]\n",
    "data = flags[[\"Red\", \"Green\", \"Blue\", \"Gold\", \"White\", \"Black\", \"Orange\"]]"
   ]
  },
  {
   "cell_type": "markdown",
   "id": "4278c00a",
   "metadata": {
    "papermill": {
     "duration": 0.004818,
     "end_time": "2023-06-23T08:45:42.519507",
     "exception": false,
     "start_time": "2023-06-23T08:45:42.514689",
     "status": "completed"
    },
    "tags": []
   },
   "source": [
    "# Split the Data and Labels into Training and testing set"
   ]
  },
  {
   "cell_type": "code",
   "execution_count": 3,
   "id": "b0c42d3a",
   "metadata": {
    "execution": {
     "iopub.execute_input": "2023-06-23T08:45:42.531461Z",
     "iopub.status.busy": "2023-06-23T08:45:42.531030Z",
     "iopub.status.idle": "2023-06-23T08:45:42.540330Z",
     "shell.execute_reply": "2023-06-23T08:45:42.539428Z"
    },
    "papermill": {
     "duration": 0.018256,
     "end_time": "2023-06-23T08:45:42.542824",
     "exception": false,
     "start_time": "2023-06-23T08:45:42.524568",
     "status": "completed"
    },
    "tags": []
   },
   "outputs": [],
   "source": [
    "train_data, test_data, train_labels, test_labels = train_test_split(data, labels, random_state=1)"
   ]
  },
  {
   "cell_type": "markdown",
   "id": "7032f6b1",
   "metadata": {
    "papermill": {
     "duration": 0.004814,
     "end_time": "2023-06-23T08:45:42.552838",
     "exception": false,
     "start_time": "2023-06-23T08:45:42.548024",
     "status": "completed"
    },
    "tags": []
   },
   "source": [
    "# Create a Decision Tree Classifier model and train it"
   ]
  },
  {
   "cell_type": "code",
   "execution_count": 4,
   "id": "5cdf1fbb",
   "metadata": {
    "execution": {
     "iopub.execute_input": "2023-06-23T08:45:42.565355Z",
     "iopub.status.busy": "2023-06-23T08:45:42.564713Z",
     "iopub.status.idle": "2023-06-23T08:45:42.585917Z",
     "shell.execute_reply": "2023-06-23T08:45:42.584803Z"
    },
    "papermill": {
     "duration": 0.03117,
     "end_time": "2023-06-23T08:45:42.589172",
     "exception": false,
     "start_time": "2023-06-23T08:45:42.558002",
     "status": "completed"
    },
    "tags": []
   },
   "outputs": [
    {
     "data": {
      "text/html": [
       "<style>#sk-container-id-1 {color: black;background-color: white;}#sk-container-id-1 pre{padding: 0;}#sk-container-id-1 div.sk-toggleable {background-color: white;}#sk-container-id-1 label.sk-toggleable__label {cursor: pointer;display: block;width: 100%;margin-bottom: 0;padding: 0.3em;box-sizing: border-box;text-align: center;}#sk-container-id-1 label.sk-toggleable__label-arrow:before {content: \"▸\";float: left;margin-right: 0.25em;color: #696969;}#sk-container-id-1 label.sk-toggleable__label-arrow:hover:before {color: black;}#sk-container-id-1 div.sk-estimator:hover label.sk-toggleable__label-arrow:before {color: black;}#sk-container-id-1 div.sk-toggleable__content {max-height: 0;max-width: 0;overflow: hidden;text-align: left;background-color: #f0f8ff;}#sk-container-id-1 div.sk-toggleable__content pre {margin: 0.2em;color: black;border-radius: 0.25em;background-color: #f0f8ff;}#sk-container-id-1 input.sk-toggleable__control:checked~div.sk-toggleable__content {max-height: 200px;max-width: 100%;overflow: auto;}#sk-container-id-1 input.sk-toggleable__control:checked~label.sk-toggleable__label-arrow:before {content: \"▾\";}#sk-container-id-1 div.sk-estimator input.sk-toggleable__control:checked~label.sk-toggleable__label {background-color: #d4ebff;}#sk-container-id-1 div.sk-label input.sk-toggleable__control:checked~label.sk-toggleable__label {background-color: #d4ebff;}#sk-container-id-1 input.sk-hidden--visually {border: 0;clip: rect(1px 1px 1px 1px);clip: rect(1px, 1px, 1px, 1px);height: 1px;margin: -1px;overflow: hidden;padding: 0;position: absolute;width: 1px;}#sk-container-id-1 div.sk-estimator {font-family: monospace;background-color: #f0f8ff;border: 1px dotted black;border-radius: 0.25em;box-sizing: border-box;margin-bottom: 0.5em;}#sk-container-id-1 div.sk-estimator:hover {background-color: #d4ebff;}#sk-container-id-1 div.sk-parallel-item::after {content: \"\";width: 100%;border-bottom: 1px solid gray;flex-grow: 1;}#sk-container-id-1 div.sk-label:hover label.sk-toggleable__label {background-color: #d4ebff;}#sk-container-id-1 div.sk-serial::before {content: \"\";position: absolute;border-left: 1px solid gray;box-sizing: border-box;top: 0;bottom: 0;left: 50%;z-index: 0;}#sk-container-id-1 div.sk-serial {display: flex;flex-direction: column;align-items: center;background-color: white;padding-right: 0.2em;padding-left: 0.2em;position: relative;}#sk-container-id-1 div.sk-item {position: relative;z-index: 1;}#sk-container-id-1 div.sk-parallel {display: flex;align-items: stretch;justify-content: center;background-color: white;position: relative;}#sk-container-id-1 div.sk-item::before, #sk-container-id-1 div.sk-parallel-item::before {content: \"\";position: absolute;border-left: 1px solid gray;box-sizing: border-box;top: 0;bottom: 0;left: 50%;z-index: -1;}#sk-container-id-1 div.sk-parallel-item {display: flex;flex-direction: column;z-index: 1;position: relative;background-color: white;}#sk-container-id-1 div.sk-parallel-item:first-child::after {align-self: flex-end;width: 50%;}#sk-container-id-1 div.sk-parallel-item:last-child::after {align-self: flex-start;width: 50%;}#sk-container-id-1 div.sk-parallel-item:only-child::after {width: 0;}#sk-container-id-1 div.sk-dashed-wrapped {border: 1px dashed gray;margin: 0 0.4em 0.5em 0.4em;box-sizing: border-box;padding-bottom: 0.4em;background-color: white;}#sk-container-id-1 div.sk-label label {font-family: monospace;font-weight: bold;display: inline-block;line-height: 1.2em;}#sk-container-id-1 div.sk-label-container {text-align: center;}#sk-container-id-1 div.sk-container {/* jupyter's `normalize.less` sets `[hidden] { display: none; }` but bootstrap.min.css set `[hidden] { display: none !important; }` so we also need the `!important` here to be able to override the default hidden behavior on the sphinx rendered scikit-learn.org. See: https://github.com/scikit-learn/scikit-learn/issues/21755 */display: inline-block !important;position: relative;}#sk-container-id-1 div.sk-text-repr-fallback {display: none;}</style><div id=\"sk-container-id-1\" class=\"sk-top-container\"><div class=\"sk-text-repr-fallback\"><pre>DecisionTreeClassifier(random_state=1)</pre><b>In a Jupyter environment, please rerun this cell to show the HTML representation or trust the notebook. <br />On GitHub, the HTML representation is unable to render, please try loading this page with nbviewer.org.</b></div><div class=\"sk-container\" hidden><div class=\"sk-item\"><div class=\"sk-estimator sk-toggleable\"><input class=\"sk-toggleable__control sk-hidden--visually\" id=\"sk-estimator-id-1\" type=\"checkbox\" checked><label for=\"sk-estimator-id-1\" class=\"sk-toggleable__label sk-toggleable__label-arrow\">DecisionTreeClassifier</label><div class=\"sk-toggleable__content\"><pre>DecisionTreeClassifier(random_state=1)</pre></div></div></div></div></div>"
      ],
      "text/plain": [
       "DecisionTreeClassifier(random_state=1)"
      ]
     },
     "execution_count": 4,
     "metadata": {},
     "output_type": "execute_result"
    }
   ],
   "source": [
    "#create and fit the Decision Tree Classifier\n",
    "tree = DecisionTreeClassifier(random_state=1)\n",
    "tree.fit(train_data, train_labels)"
   ]
  },
  {
   "cell_type": "markdown",
   "id": "e1e3e1bb",
   "metadata": {
    "papermill": {
     "duration": 0.005285,
     "end_time": "2023-06-23T08:45:42.600002",
     "exception": false,
     "start_time": "2023-06-23T08:45:42.594717",
     "status": "completed"
    },
    "tags": []
   },
   "source": [
    "# Evaluate the accuracy of the model"
   ]
  },
  {
   "cell_type": "code",
   "execution_count": 5,
   "id": "87e106b9",
   "metadata": {
    "execution": {
     "iopub.execute_input": "2023-06-23T08:45:42.613684Z",
     "iopub.status.busy": "2023-06-23T08:45:42.612970Z",
     "iopub.status.idle": "2023-06-23T08:45:42.625486Z",
     "shell.execute_reply": "2023-06-23T08:45:42.623981Z"
    },
    "papermill": {
     "duration": 0.022585,
     "end_time": "2023-06-23T08:45:42.628355",
     "exception": false,
     "start_time": "2023-06-23T08:45:42.605770",
     "status": "completed"
    },
    "tags": []
   },
   "outputs": [
    {
     "name": "stdout",
     "output_type": "stream",
     "text": [
      "Accuracy:  0.3469387755102041\n"
     ]
    }
   ],
   "source": [
    "print(\"Accuracy: \", tree.score(test_data, test_labels))"
   ]
  },
  {
   "cell_type": "markdown",
   "id": "34abfbde",
   "metadata": {
    "papermill": {
     "duration": 0.005616,
     "end_time": "2023-06-23T08:45:42.639858",
     "exception": false,
     "start_time": "2023-06-23T08:45:42.634242",
     "status": "completed"
    },
    "tags": []
   },
   "source": [
    "# Explore model's performance by adjusting maximum depth"
   ]
  },
  {
   "cell_type": "code",
   "execution_count": 6,
   "id": "2d980358",
   "metadata": {
    "execution": {
     "iopub.execute_input": "2023-06-23T08:45:42.654016Z",
     "iopub.status.busy": "2023-06-23T08:45:42.653328Z",
     "iopub.status.idle": "2023-06-23T08:45:42.821732Z",
     "shell.execute_reply": "2023-06-23T08:45:42.820513Z"
    },
    "papermill": {
     "duration": 0.179044,
     "end_time": "2023-06-23T08:45:42.824839",
     "exception": false,
     "start_time": "2023-06-23T08:45:42.645795",
     "status": "completed"
    },
    "tags": []
   },
   "outputs": [],
   "source": [
    "scores = []\n",
    "for i in range(1,21):\n",
    "    tree = DecisionTreeClassifier(random_state=1, max_depth=i)\n",
    "    tree.fit(train_data, train_labels)\n",
    "    scores.append(tree.score(test_data, test_labels))"
   ]
  },
  {
   "cell_type": "code",
   "execution_count": 7,
   "id": "f16a4f59",
   "metadata": {
    "execution": {
     "iopub.execute_input": "2023-06-23T08:45:42.838456Z",
     "iopub.status.busy": "2023-06-23T08:45:42.837994Z",
     "iopub.status.idle": "2023-06-23T08:45:43.184932Z",
     "shell.execute_reply": "2023-06-23T08:45:43.183411Z"
    },
    "papermill": {
     "duration": 0.356931,
     "end_time": "2023-06-23T08:45:43.187577",
     "exception": false,
     "start_time": "2023-06-23T08:45:42.830646",
     "status": "completed"
    },
    "tags": []
   },
   "outputs": [
    {
     "data": {
      "image/png": "[encoded data removed]",
      "text/plain": [
       "<Figure size 640x480 with 1 Axes>"
      ]
     },
     "metadata": {},
     "output_type": "display_data"
    }
   ],
   "source": [
    "#plot the scores\n",
    "plt.plot(range(1,21), scores)\n",
    "plt.xlabel(\"Tree Depth\")\n",
    "plt.ylabel(\"Accuracy Score\")\n",
    "plt.title(\"Accuracy vs. Tree Depth\")\n",
    "plt.show()"
   ]
  },
  {
   "cell_type": "markdown",
   "id": "32d5c1e2",
   "metadata": {
    "papermill": {
     "duration": 0.006532,
     "end_time": "2023-06-23T08:45:43.200764",
     "exception": false,
     "start_time": "2023-06-23T08:45:43.194232",
     "status": "completed"
    },
    "tags": []
   },
   "source": [
    "# Impact of maximum depth on Decision Tree:\n",
    "\n",
    "* If it is set too high, it becomes overly complex and can capture noise in training set, leading to overfitting.\n",
    "* If it is set too low, it may not capture all revelant patterns and relationships in the training set, leading to underfitting.\n",
    "\n",
    "**The main goal is to choose maximum depth that provides the best generalization and accuracy on unseen data.**"
   ]
  }
 ],
 "metadata": {
  "kernelspec": {
   "display_name": "Python 3",
   "language": "python",
   "name": "python3"
  },
  "language_info": {
   "codemirror_mode": {
    "name": "ipython",
    "version": 3
   },
   "file_extension": ".py",
   "mimetype": "text/x-python",
   "name": "python",
   "nbconvert_exporter": "python",
   "pygments_lexer": "ipython3",
   "version": "3.10.10"
  },
  "papermill": {
   "default_parameters": {},
   "duration": 17.235631,
   "end_time": "2023-06-23T08:45:44.230873",
   "environment_variables": {},
   "exception": null,
   "input_path": "__notebook__.ipynb",
   "output_path": "__notebook__.ipynb",
   "parameters": {},
   "start_time": "2023-06-23T08:45:26.995242",
   "version": "2.4.0"
  }
 },
 "nbformat": 4,
 "nbformat_minor": 5
}
