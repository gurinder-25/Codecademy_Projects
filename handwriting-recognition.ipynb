{
 "cells": [
  {
   "cell_type": "markdown",
   "id": "6c4d4e5b",
   "metadata": {
    "papermill": {
     "duration": 0.005337,
     "end_time": "2023-06-23T08:52:11.798430",
     "exception": false,
     "start_time": "2023-06-23T08:52:11.793093",
     "status": "completed"
    },
    "tags": []
   },
   "source": [
    "# Handwriting Recognition"
   ]
  },
  {
   "cell_type": "markdown",
   "id": "c8221a95",
   "metadata": {
    "papermill": {
     "duration": 0.004481,
     "end_time": "2023-06-23T08:52:11.807882",
     "exception": false,
     "start_time": "2023-06-23T08:52:11.803401",
     "status": "completed"
    },
    "tags": []
   },
   "source": [
    "**The core purpose of this code is to demonstrate the use of the K-means clustering algorithm for image recognition and classification. It uses the Digits dataset from sklearn to train a K-means clustering model on handwritten digit images.**"
   ]
  },
  {
   "cell_type": "markdown",
   "id": "48ce2f5c",
   "metadata": {
    "papermill": {
     "duration": 0.004526,
     "end_time": "2023-06-23T08:52:11.817161",
     "exception": false,
     "start_time": "2023-06-23T08:52:11.812635",
     "status": "completed"
    },
    "tags": []
   },
   "source": [
    "# Clustering \n",
    "**Clustering is the most well-known unsupervised learning technique. It finds structure in unlabeled data by identifying similar groups, or clusters.**\n",
    "**The goal of clustering is to separate data so that data similar to one another are in the same group, while data different from one another are in different groups. So two questions arise:**\n",
    "\n",
    "* How many groups do we choose?\n",
    "* How do we define similarity?"
   ]
  },
  {
   "cell_type": "markdown",
   "id": "7ea17969",
   "metadata": {
    "papermill": {
     "duration": 0.004482,
     "end_time": "2023-06-23T08:52:11.826399",
     "exception": false,
     "start_time": "2023-06-23T08:52:11.821917",
     "status": "completed"
    },
    "tags": []
   },
   "source": [
    "# K-Means Clustering\n",
    "**K-Means is the most popular and well-known clustering algorithm, and it tries to address these two questions.**\n",
    "\n",
    "* The “K” refers to the number of clusters (groups) we expect to find in a dataset.\n",
    "* The “Means” refers to the average distance of data to each cluster center, also known as the centroid, which we are trying to minimize"
   ]
  },
  {
   "cell_type": "markdown",
   "id": "c19938ab",
   "metadata": {
    "papermill": {
     "duration": 0.004407,
     "end_time": "2023-06-23T08:52:11.835583",
     "exception": false,
     "start_time": "2023-06-23T08:52:11.831176",
     "status": "completed"
    },
    "tags": []
   },
   "source": [
    "**Steps:**\n",
    "* Load the Dataset\n",
    "* Display Dataset information\n",
    "* Visualize some sample images\n",
    "* Perform K-means clustering\n",
    "* Visualize cluster center image\n",
    "* Generate a new Sample for prediction"
   ]
  },
  {
   "cell_type": "markdown",
   "id": "6d551bd6",
   "metadata": {
    "papermill": {
     "duration": 0.004484,
     "end_time": "2023-06-23T08:52:11.844845",
     "exception": false,
     "start_time": "2023-06-23T08:52:11.840361",
     "status": "completed"
    },
    "tags": []
   },
   "source": [
    "# Load the Dataset"
   ]
  },
  {
   "cell_type": "code",
   "execution_count": 1,
   "id": "77a1b7a6",
   "metadata": {
    "execution": {
     "iopub.execute_input": "2023-06-23T08:52:11.856966Z",
     "iopub.status.busy": "2023-06-23T08:52:11.856519Z",
     "iopub.status.idle": "2023-06-23T08:52:14.035947Z",
     "shell.execute_reply": "2023-06-23T08:52:14.034573Z"
    },
    "papermill": {
     "duration": 2.188735,
     "end_time": "2023-06-23T08:52:14.038753",
     "exception": false,
     "start_time": "2023-06-23T08:52:11.850018",
     "status": "completed"
    },
    "tags": []
   },
   "outputs": [],
   "source": [
    "import numpy as np\n",
    "import matplotlib.pyplot as plt\n",
    "from sklearn import datasets\n",
    "from sklearn.cluster import KMeans\n",
    "\n",
    "digits = datasets.load_digits()"
   ]
  },
  {
   "cell_type": "markdown",
   "id": "c00de8ea",
   "metadata": {
    "papermill": {
     "duration": 0.004673,
     "end_time": "2023-06-23T08:52:14.050188",
     "exception": false,
     "start_time": "2023-06-23T08:52:14.045515",
     "status": "completed"
    },
    "tags": []
   },
   "source": [
    "# Display Dataset information"
   ]
  },
  {
   "cell_type": "code",
   "execution_count": 2,
   "id": "a37cec9e",
   "metadata": {
    "execution": {
     "iopub.execute_input": "2023-06-23T08:52:14.061770Z",
     "iopub.status.busy": "2023-06-23T08:52:14.061338Z",
     "iopub.status.idle": "2023-06-23T08:52:14.067284Z",
     "shell.execute_reply": "2023-06-23T08:52:14.066059Z"
    },
    "papermill": {
     "duration": 0.01478,
     "end_time": "2023-06-23T08:52:14.069873",
     "exception": false,
     "start_time": "2023-06-23T08:52:14.055093",
     "status": "completed"
    },
    "tags": []
   },
   "outputs": [
    {
     "name": "stdout",
     "output_type": "stream",
     "text": [
      ".. _digits_dataset:\n",
      "\n",
      "Optical recognition of handwritten digits dataset\n",
      "--------------------------------------------------\n",
      "\n",
      "**Data Set Characteristics:**\n",
      "\n",
      "    :Number of Instances: 1797\n",
      "    :Number of Attributes: 64\n",
      "    :Attribute Information: 8x8 image of integer pixels in the range 0..16.\n",
      "    :Missing Attribute Values: None\n",
      "    :Creator: E. Alpaydin (alpaydin '@' boun.edu.tr)\n",
      "    :Date: July; 1998\n",
      "\n",
      "This is a copy of the test set of the UCI ML hand-written digits datasets\n",
      "https://archive.ics.uci.edu/ml/datasets/Optical+Recognition+of+Handwritten+Digits\n",
      "\n",
      "The data set contains images of hand-written digits: 10 classes where\n",
      "each class refers to a digit.\n",
      "\n",
      "Preprocessing programs made available by NIST were used to extract\n",
      "normalized bitmaps of handwritten digits from a preprinted form. From a\n",
      "total of 43 people, 30 contributed to the training set and different 13\n",
      "to the test set. 32x32 bitmaps are divided into nonoverlapping blocks of\n",
      "4x4 and the number of on pixels are counted in each block. This generates\n",
      "an input matrix of 8x8 where each element is an integer in the range\n",
      "0..16. This reduces dimensionality and gives invariance to small\n",
      "distortions.\n",
      "\n",
      "For info on NIST preprocessing routines, see M. D. Garris, J. L. Blue, G.\n",
      "T. Candela, D. L. Dimmick, J. Geist, P. J. Grother, S. A. Janet, and C.\n",
      "L. Wilson, NIST Form-Based Handprint Recognition System, NISTIR 5469,\n",
      "1994.\n",
      "\n",
      ".. topic:: References\n",
      "\n",
      "  - C. Kaynak (1995) Methods of Combining Multiple Classifiers and Their\n",
      "    Applications to Handwritten Digit Recognition, MSc Thesis, Institute of\n",
      "    Graduate Studies in Science and Engineering, Bogazici University.\n",
      "  - E. Alpaydin, C. Kaynak (1998) Cascading Classifiers, Kybernetika.\n",
      "  - Ken Tang and Ponnuthurai N. Suganthan and Xi Yao and A. Kai Qin.\n",
      "    Linear dimensionalityreduction using relevance weighted LDA. School of\n",
      "    Electrical and Electronic Engineering Nanyang Technological University.\n",
      "    2005.\n",
      "  - Claudio Gentile. A New Approximate Maximal Margin Classification\n",
      "    Algorithm. NIPS. 2000.\n",
      "\n"
     ]
    }
   ],
   "source": [
    "print(digits.DESCR)"
   ]
  },
  {
   "cell_type": "markdown",
   "id": "e45a7eaa",
   "metadata": {
    "papermill": {
     "duration": 0.005129,
     "end_time": "2023-06-23T08:52:14.080383",
     "exception": false,
     "start_time": "2023-06-23T08:52:14.075254",
     "status": "completed"
    },
    "tags": []
   },
   "source": [
    "# Visualize some sample images"
   ]
  },
  {
   "cell_type": "code",
   "execution_count": 3,
   "id": "82de174a",
   "metadata": {
    "execution": {
     "iopub.execute_input": "2023-06-23T08:52:14.092473Z",
     "iopub.status.busy": "2023-06-23T08:52:14.092060Z",
     "iopub.status.idle": "2023-06-23T08:52:15.007365Z",
     "shell.execute_reply": "2023-06-23T08:52:15.006161Z"
    },
    "papermill": {
     "duration": 0.924941,
     "end_time": "2023-06-23T08:52:15.010461",
     "exception": false,
     "start_time": "2023-06-23T08:52:14.085520",
     "status": "completed"
    },
    "tags": []
   },
   "outputs": [
    {
     "data": {
      "image/png": "[encoded data removed]",
      "text/plain": [
       "<Figure size 800x400 with 10 Axes>"
      ]
     },
     "metadata": {},
     "output_type": "display_data"
    }
   ],
   "source": [
    "fig, axes = plt.subplots(2, 5, figsize=(8, 4))\n",
    "for i, ax in enumerate(axes.flat):\n",
    "    ax.imshow(digits.images[i], cmap=plt.cm.gray_r)\n",
    "    ax.set_title(f\"Target: {digits.target[i]}\")\n",
    "    ax.axis('off')\n",
    "plt.tight_layout()\n",
    "plt.show()"
   ]
  },
  {
   "cell_type": "markdown",
   "id": "70ce45b8",
   "metadata": {
    "papermill": {
     "duration": 0.005327,
     "end_time": "2023-06-23T08:52:15.022162",
     "exception": false,
     "start_time": "2023-06-23T08:52:15.016835",
     "status": "completed"
    },
    "tags": []
   },
   "source": [
    "# Perform K-means clustering"
   ]
  },
  {
   "cell_type": "code",
   "execution_count": 4,
   "id": "5592de7d",
   "metadata": {
    "execution": {
     "iopub.execute_input": "2023-06-23T08:52:15.035751Z",
     "iopub.status.busy": "2023-06-23T08:52:15.035340Z",
     "iopub.status.idle": "2023-06-23T08:52:16.584680Z",
     "shell.execute_reply": "2023-06-23T08:52:16.583575Z"
    },
    "papermill": {
     "duration": 1.55949,
     "end_time": "2023-06-23T08:52:16.587338",
     "exception": false,
     "start_time": "2023-06-23T08:52:15.027848",
     "status": "completed"
    },
    "tags": []
   },
   "outputs": [
    {
     "name": "stderr",
     "output_type": "stream",
     "text": [
      "/opt/conda/lib/python3.10/site-packages/sklearn/cluster/_kmeans.py:870: FutureWarning: The default value of `n_init` will change from 10 to 'auto' in 1.4. Set the value of `n_init` explicitly to suppress the warning\n",
      "  warnings.warn(\n"
     ]
    },
    {
     "data": {
      "text/html": [
       "<style>#sk-container-id-1 {color: black;background-color: white;}#sk-container-id-1 pre{padding: 0;}#sk-container-id-1 div.sk-toggleable {background-color: white;}#sk-container-id-1 label.sk-toggleable__label {cursor: pointer;display: block;width: 100%;margin-bottom: 0;padding: 0.3em;box-sizing: border-box;text-align: center;}#sk-container-id-1 label.sk-toggleable__label-arrow:before {content: \"▸\";float: left;margin-right: 0.25em;color: #696969;}#sk-container-id-1 label.sk-toggleable__label-arrow:hover:before {color: black;}#sk-container-id-1 div.sk-estimator:hover label.sk-toggleable__label-arrow:before {color: black;}#sk-container-id-1 div.sk-toggleable__content {max-height: 0;max-width: 0;overflow: hidden;text-align: left;background-color: #f0f8ff;}#sk-container-id-1 div.sk-toggleable__content pre {margin: 0.2em;color: black;border-radius: 0.25em;background-color: #f0f8ff;}#sk-container-id-1 input.sk-toggleable__control:checked~div.sk-toggleable__content {max-height: 200px;max-width: 100%;overflow: auto;}#sk-container-id-1 input.sk-toggleable__control:checked~label.sk-toggleable__label-arrow:before {content: \"▾\";}#sk-container-id-1 div.sk-estimator input.sk-toggleable__control:checked~label.sk-toggleable__label {background-color: #d4ebff;}#sk-container-id-1 div.sk-label input.sk-toggleable__control:checked~label.sk-toggleable__label {background-color: #d4ebff;}#sk-container-id-1 input.sk-hidden--visually {border: 0;clip: rect(1px 1px 1px 1px);clip: rect(1px, 1px, 1px, 1px);height: 1px;margin: -1px;overflow: hidden;padding: 0;position: absolute;width: 1px;}#sk-container-id-1 div.sk-estimator {font-family: monospace;background-color: #f0f8ff;border: 1px dotted black;border-radius: 0.25em;box-sizing: border-box;margin-bottom: 0.5em;}#sk-container-id-1 div.sk-estimator:hover {background-color: #d4ebff;}#sk-container-id-1 div.sk-parallel-item::after {content: \"\";width: 100%;border-bottom: 1px solid gray;flex-grow: 1;}#sk-container-id-1 div.sk-label:hover label.sk-toggleable__label {background-color: #d4ebff;}#sk-container-id-1 div.sk-serial::before {content: \"\";position: absolute;border-left: 1px solid gray;box-sizing: border-box;top: 0;bottom: 0;left: 50%;z-index: 0;}#sk-container-id-1 div.sk-serial {display: flex;flex-direction: column;align-items: center;background-color: white;padding-right: 0.2em;padding-left: 0.2em;position: relative;}#sk-container-id-1 div.sk-item {position: relative;z-index: 1;}#sk-container-id-1 div.sk-parallel {display: flex;align-items: stretch;justify-content: center;background-color: white;position: relative;}#sk-container-id-1 div.sk-item::before, #sk-container-id-1 div.sk-parallel-item::before {content: \"\";position: absolute;border-left: 1px solid gray;box-sizing: border-box;top: 0;bottom: 0;left: 50%;z-index: -1;}#sk-container-id-1 div.sk-parallel-item {display: flex;flex-direction: column;z-index: 1;position: relative;background-color: white;}#sk-container-id-1 div.sk-parallel-item:first-child::after {align-self: flex-end;width: 50%;}#sk-container-id-1 div.sk-parallel-item:last-child::after {align-self: flex-start;width: 50%;}#sk-container-id-1 div.sk-parallel-item:only-child::after {width: 0;}#sk-container-id-1 div.sk-dashed-wrapped {border: 1px dashed gray;margin: 0 0.4em 0.5em 0.4em;box-sizing: border-box;padding-bottom: 0.4em;background-color: white;}#sk-container-id-1 div.sk-label label {font-family: monospace;font-weight: bold;display: inline-block;line-height: 1.2em;}#sk-container-id-1 div.sk-label-container {text-align: center;}#sk-container-id-1 div.sk-container {/* jupyter's `normalize.less` sets `[hidden] { display: none; }` but bootstrap.min.css set `[hidden] { display: none !important; }` so we also need the `!important` here to be able to override the default hidden behavior on the sphinx rendered scikit-learn.org. See: https://github.com/scikit-learn/scikit-learn/issues/21755 */display: inline-block !important;position: relative;}#sk-container-id-1 div.sk-text-repr-fallback {display: none;}</style><div id=\"sk-container-id-1\" class=\"sk-top-container\"><div class=\"sk-text-repr-fallback\"><pre>KMeans(n_clusters=10, random_state=42)</pre><b>In a Jupyter environment, please rerun this cell to show the HTML representation or trust the notebook. <br />On GitHub, the HTML representation is unable to render, please try loading this page with nbviewer.org.</b></div><div class=\"sk-container\" hidden><div class=\"sk-item\"><div class=\"sk-estimator sk-toggleable\"><input class=\"sk-toggleable__control sk-hidden--visually\" id=\"sk-estimator-id-1\" type=\"checkbox\" checked><label for=\"sk-estimator-id-1\" class=\"sk-toggleable__label sk-toggleable__label-arrow\">KMeans</label><div class=\"sk-toggleable__content\"><pre>KMeans(n_clusters=10, random_state=42)</pre></div></div></div></div></div>"
      ],
      "text/plain": [
       "KMeans(n_clusters=10, random_state=42)"
      ]
     },
     "execution_count": 4,
     "metadata": {},
     "output_type": "execute_result"
    }
   ],
   "source": [
    "kmeans = KMeans(n_clusters=10, random_state=42)\n",
    "kmeans.fit(digits.data)"
   ]
  },
  {
   "cell_type": "markdown",
   "id": "d35ba3f6",
   "metadata": {
    "papermill": {
     "duration": 0.00594,
     "end_time": "2023-06-23T08:52:16.600184",
     "exception": false,
     "start_time": "2023-06-23T08:52:16.594244",
     "status": "completed"
    },
    "tags": []
   },
   "source": [
    "# Visualize cluster center image"
   ]
  },
  {
   "cell_type": "code",
   "execution_count": 5,
   "id": "d1768a24",
   "metadata": {
    "execution": {
     "iopub.execute_input": "2023-06-23T08:52:16.613987Z",
     "iopub.status.busy": "2023-06-23T08:52:16.613544Z",
     "iopub.status.idle": "2023-06-23T08:52:17.672368Z",
     "shell.execute_reply": "2023-06-23T08:52:17.671191Z"
    },
    "papermill": {
     "duration": 1.068746,
     "end_time": "2023-06-23T08:52:17.674967",
     "exception": false,
     "start_time": "2023-06-23T08:52:16.606221",
     "status": "completed"
    },
    "tags": []
   },
   "outputs": [
    {
     "data": {
      "image/png": "[encoded data removed]",
      "text/plain": [
       "<Figure size 800x400 with 10 Axes>"
      ]
     },
     "metadata": {},
     "output_type": "display_data"
    }
   ],
   "source": [
    "fig, axes = plt.subplots(2, 5, figsize=(8, 4))\n",
    "for i, ax in enumerate(axes.flat):\n",
    "    ax.imshow(kmeans.cluster_centers_[i].reshape(8, 8), cmap=plt.cm.binary)\n",
    "    ax.set_title(f\"Cluster {i}\")\n",
    "    ax.axis('off')\n",
    "plt.tight_layout()\n",
    "plt.show()"
   ]
  },
  {
   "cell_type": "markdown",
   "id": "0df7c015",
   "metadata": {
    "papermill": {
     "duration": 0.006437,
     "end_time": "2023-06-23T08:52:17.688478",
     "exception": false,
     "start_time": "2023-06-23T08:52:17.682041",
     "status": "completed"
    },
    "tags": []
   },
   "source": [
    "# Generate a new Sample for prediction"
   ]
  },
  {
   "cell_type": "code",
   "execution_count": 6,
   "id": "b9d9b6fa",
   "metadata": {
    "execution": {
     "iopub.execute_input": "2023-06-23T08:52:17.703189Z",
     "iopub.status.busy": "2023-06-23T08:52:17.702715Z",
     "iopub.status.idle": "2023-06-23T08:52:17.720816Z",
     "shell.execute_reply": "2023-06-23T08:52:17.719594Z"
    },
    "papermill": {
     "duration": 0.028995,
     "end_time": "2023-06-23T08:52:17.723888",
     "exception": false,
     "start_time": "2023-06-23T08:52:17.694893",
     "status": "completed"
    },
    "tags": []
   },
   "outputs": [
    {
     "name": "stdout",
     "output_type": "stream",
     "text": [
      "Predicted digits: [1, 1, 1, 1]\n"
     ]
    }
   ],
   "source": [
    "new_samples = np.array([\n",
    "    [0, 1, 2, 3, 4, 5, 6, 7, 8, 9, 10, 11, 12, 13, 14, 15, 16, 0, 1, 2, 3, 4, 5, 6, 7, 8, 9, 10, 11, 12, 13, 14, 15, 16],\n",
    "    [0, 1, 2, 3, 4, 5, 6, 7, 8, 9, 10, 11, 12, 13, 14, 15, 16, 0, 1, 2, 3, 4, 5, 6, 7, 8, 9, 10, 11, 12, 13, 14, 15, 16],\n",
    "    [0, 1, 2, 3, 4, 5, 6, 7, 8, 9, 10, 11, 12, 13, 14, 15, 16, 0, 1, 2, 3, 4, 5, 6, 7, 8, 9, 10, 11, 12, 13, 14, 15, 16],\n",
    "    [0, 1, 2, 3, 4, 5, 6, 7, 8, 9, 10, 11, 12, 13, 14, 15, 16, 0, 1, 2, 3, 4, 5, 6, 7, 8, 9, 10, 11, 12, 13, 14, 15, 16]\n",
    "])\n",
    "\n",
    "# Pad the new samples with zeros if necessary\n",
    "desired_num_features = 64\n",
    "num_existing_features = new_samples.shape[1]\n",
    "if num_existing_features < desired_num_features:\n",
    "    num_additional_features = desired_num_features - num_existing_features\n",
    "    new_samples = np.pad(new_samples, ((0, 0), (0, num_additional_features)), mode='constant')\n",
    "\n",
    "# Predict the labels for new samples\n",
    "new_labels = kmeans.predict(new_samples)\n",
    "\n",
    "# Map cluster labels to corresponding digits\n",
    "label_mapping = {0: 0, 1: 9, 2: 2, 3: 1, 4: 6, 5: 8, 6: 4, 7: 5, 8: 7, 9: 3}\n",
    "mapped_labels = [label_mapping[label] for label in new_labels]\n",
    "\n",
    "# Display the predicted digits\n",
    "print(\"Predicted digits:\", mapped_labels)"
   ]
  }
 ],
 "metadata": {
  "kernelspec": {
   "display_name": "Python 3",
   "language": "python",
   "name": "python3"
  },
  "language_info": {
   "codemirror_mode": {
    "name": "ipython",
    "version": 3
   },
   "file_extension": ".py",
   "mimetype": "text/x-python",
   "name": "python",
   "nbconvert_exporter": "python",
   "pygments_lexer": "ipython3",
   "version": "3.10.10"
  },
  "papermill": {
   "default_parameters": {},
   "duration": 20.595418,
   "end_time": "2023-06-23T08:52:18.854232",
   "environment_variables": {},
   "exception": null,
   "input_path": "__notebook__.ipynb",
   "output_path": "__notebook__.ipynb",
   "parameters": {},
   "start_time": "2023-06-23T08:51:58.258814",
   "version": "2.4.0"
  }
 },
 "nbformat": 4,
 "nbformat_minor": 5
}
