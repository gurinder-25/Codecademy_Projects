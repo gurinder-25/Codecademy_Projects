{
 "cells": [
  {
   "cell_type": "markdown",
   "id": "084b8508",
   "metadata": {
    "papermill": {
     "duration": 0.005957,
     "end_time": "2023-06-23T08:08:14.457746",
     "exception": false,
     "start_time": "2023-06-23T08:08:14.451789",
     "status": "completed"
    },
    "tags": []
   },
   "source": [
    "# HONEY PRODUCTION "
   ]
  },
  {
   "cell_type": "markdown",
   "id": "39bc182e",
   "metadata": {
    "papermill": {
     "duration": 0.00511,
     "end_time": "2023-06-23T08:08:14.468271",
     "exception": false,
     "start_time": "2023-06-23T08:08:14.463161",
     "status": "completed"
    },
    "tags": []
   },
   "source": [
    "**In this project, I will use Linear Regression to build a best-fit model to analyze and predict honey production data.**"
   ]
  },
  {
   "cell_type": "markdown",
   "id": "cec8ade7",
   "metadata": {
    "papermill": {
     "duration": 0.005018,
     "end_time": "2023-06-23T08:08:14.478689",
     "exception": false,
     "start_time": "2023-06-23T08:08:14.473671",
     "status": "completed"
    },
    "tags": []
   },
   "source": [
    "# Linear Regression\n",
    "**The Simplest model that we can fit to data is a line. When we are trying to find a line that fits a set of data best, we are performing linear regression.**"
   ]
  },
  {
   "cell_type": "markdown",
   "id": "dc5b4219",
   "metadata": {
    "papermill": {
     "duration": 0.00498,
     "end_time": "2023-06-23T08:08:14.489111",
     "exception": false,
     "start_time": "2023-06-23T08:08:14.484131",
     "status": "completed"
    },
    "tags": []
   },
   "source": [
    "**Steps:**\n",
    "* Create a Dataframe \n",
    "* Load data from Dataframe and group the data by year\n",
    "* Show scatter plot \n",
    "* Create a Regression model and train it\n",
    "* Slope and Intercept values\n",
    "* Scatter plot the original values and predicted values\n",
    "* Visualize for future values"
   ]
  },
  {
   "cell_type": "markdown",
   "id": "125ed2a5",
   "metadata": {
    "papermill": {
     "duration": 0.004843,
     "end_time": "2023-06-23T08:08:14.499175",
     "exception": false,
     "start_time": "2023-06-23T08:08:14.494332",
     "status": "completed"
    },
    "tags": []
   },
   "source": [
    "# Create a Dataframe "
   ]
  },
  {
   "cell_type": "code",
   "execution_count": 1,
   "id": "ecebf419",
   "metadata": {
    "execution": {
     "iopub.execute_input": "2023-06-23T08:08:14.511889Z",
     "iopub.status.busy": "2023-06-23T08:08:14.511417Z",
     "iopub.status.idle": "2023-06-23T08:08:16.048351Z",
     "shell.execute_reply": "2023-06-23T08:08:16.046972Z"
    },
    "papermill": {
     "duration": 1.547699,
     "end_time": "2023-06-23T08:08:16.052065",
     "exception": false,
     "start_time": "2023-06-23T08:08:14.504366",
     "status": "completed"
    },
    "tags": []
   },
   "outputs": [],
   "source": [
    "import pandas as pd\n",
    "import matplotlib.pyplot as plt\n",
    "import numpy as np\n",
    "from sklearn import linear_model\n",
    "\n",
    "df = pd.read_csv('/kaggle/input/honey-production/honeyproduction.csv')"
   ]
  },
  {
   "cell_type": "markdown",
   "id": "a601347f",
   "metadata": {
    "papermill": {
     "duration": 0.005335,
     "end_time": "2023-06-23T08:08:16.063234",
     "exception": false,
     "start_time": "2023-06-23T08:08:16.057899",
     "status": "completed"
    },
    "tags": []
   },
   "source": [
    "# Load data from Dataframe and group the data by year"
   ]
  },
  {
   "cell_type": "code",
   "execution_count": 2,
   "id": "c9526f70",
   "metadata": {
    "execution": {
     "iopub.execute_input": "2023-06-23T08:08:16.078509Z",
     "iopub.status.busy": "2023-06-23T08:08:16.078091Z",
     "iopub.status.idle": "2023-06-23T08:08:16.099360Z",
     "shell.execute_reply": "2023-06-23T08:08:16.098018Z"
    },
    "papermill": {
     "duration": 0.031707,
     "end_time": "2023-06-23T08:08:16.102611",
     "exception": false,
     "start_time": "2023-06-23T08:08:16.070904",
     "status": "completed"
    },
    "tags": []
   },
   "outputs": [],
   "source": [
    "prod_per_year = df.groupby('year').totalprod.mean().reset_index()\n",
    "X = prod_per_year['year'].values.reshape(-1, 1)\n",
    "y = prod_per_year['totalprod']"
   ]
  },
  {
   "cell_type": "markdown",
   "id": "2b5868c0",
   "metadata": {
    "papermill": {
     "duration": 0.005164,
     "end_time": "2023-06-23T08:08:16.113659",
     "exception": false,
     "start_time": "2023-06-23T08:08:16.108495",
     "status": "completed"
    },
    "tags": []
   },
   "source": [
    "# Show scatter plot "
   ]
  },
  {
   "cell_type": "code",
   "execution_count": 3,
   "id": "d9f39017",
   "metadata": {
    "execution": {
     "iopub.execute_input": "2023-06-23T08:08:16.126977Z",
     "iopub.status.busy": "2023-06-23T08:08:16.126594Z",
     "iopub.status.idle": "2023-06-23T08:08:16.446182Z",
     "shell.execute_reply": "2023-06-23T08:08:16.445190Z"
    },
    "papermill": {
     "duration": 0.329277,
     "end_time": "2023-06-23T08:08:16.448498",
     "exception": false,
     "start_time": "2023-06-23T08:08:16.119221",
     "status": "completed"
    },
    "tags": []
   },
   "outputs": [
    {
     "data": {
      "image/png": "[encoded data removed]",
      "text/plain": [
       "<Figure size 640x480 with 1 Axes>"
      ]
     },
     "metadata": {},
     "output_type": "display_data"
    }
   ],
   "source": [
    "plt.scatter(X, y)\n",
    "plt.show()"
   ]
  },
  {
   "cell_type": "markdown",
   "id": "2fbacb62",
   "metadata": {
    "papermill": {
     "duration": 0.005453,
     "end_time": "2023-06-23T08:08:16.459726",
     "exception": false,
     "start_time": "2023-06-23T08:08:16.454273",
     "status": "completed"
    },
    "tags": []
   },
   "source": [
    "# Create a Regression model and train it"
   ]
  },
  {
   "cell_type": "code",
   "execution_count": 4,
   "id": "4105c4de",
   "metadata": {
    "execution": {
     "iopub.execute_input": "2023-06-23T08:08:16.474187Z",
     "iopub.status.busy": "2023-06-23T08:08:16.472904Z",
     "iopub.status.idle": "2023-06-23T08:08:16.500648Z",
     "shell.execute_reply": "2023-06-23T08:08:16.499531Z"
    },
    "papermill": {
     "duration": 0.037686,
     "end_time": "2023-06-23T08:08:16.503027",
     "exception": false,
     "start_time": "2023-06-23T08:08:16.465341",
     "status": "completed"
    },
    "tags": []
   },
   "outputs": [
    {
     "data": {
      "text/html": [
       "<style>#sk-container-id-1 {color: black;background-color: white;}#sk-container-id-1 pre{padding: 0;}#sk-container-id-1 div.sk-toggleable {background-color: white;}#sk-container-id-1 label.sk-toggleable__label {cursor: pointer;display: block;width: 100%;margin-bottom: 0;padding: 0.3em;box-sizing: border-box;text-align: center;}#sk-container-id-1 label.sk-toggleable__label-arrow:before {content: \"▸\";float: left;margin-right: 0.25em;color: #696969;}#sk-container-id-1 label.sk-toggleable__label-arrow:hover:before {color: black;}#sk-container-id-1 div.sk-estimator:hover label.sk-toggleable__label-arrow:before {color: black;}#sk-container-id-1 div.sk-toggleable__content {max-height: 0;max-width: 0;overflow: hidden;text-align: left;background-color: #f0f8ff;}#sk-container-id-1 div.sk-toggleable__content pre {margin: 0.2em;color: black;border-radius: 0.25em;background-color: #f0f8ff;}#sk-container-id-1 input.sk-toggleable__control:checked~div.sk-toggleable__content {max-height: 200px;max-width: 100%;overflow: auto;}#sk-container-id-1 input.sk-toggleable__control:checked~label.sk-toggleable__label-arrow:before {content: \"▾\";}#sk-container-id-1 div.sk-estimator input.sk-toggleable__control:checked~label.sk-toggleable__label {background-color: #d4ebff;}#sk-container-id-1 div.sk-label input.sk-toggleable__control:checked~label.sk-toggleable__label {background-color: #d4ebff;}#sk-container-id-1 input.sk-hidden--visually {border: 0;clip: rect(1px 1px 1px 1px);clip: rect(1px, 1px, 1px, 1px);height: 1px;margin: -1px;overflow: hidden;padding: 0;position: absolute;width: 1px;}#sk-container-id-1 div.sk-estimator {font-family: monospace;background-color: #f0f8ff;border: 1px dotted black;border-radius: 0.25em;box-sizing: border-box;margin-bottom: 0.5em;}#sk-container-id-1 div.sk-estimator:hover {background-color: #d4ebff;}#sk-container-id-1 div.sk-parallel-item::after {content: \"\";width: 100%;border-bottom: 1px solid gray;flex-grow: 1;}#sk-container-id-1 div.sk-label:hover label.sk-toggleable__label {background-color: #d4ebff;}#sk-container-id-1 div.sk-serial::before {content: \"\";position: absolute;border-left: 1px solid gray;box-sizing: border-box;top: 0;bottom: 0;left: 50%;z-index: 0;}#sk-container-id-1 div.sk-serial {display: flex;flex-direction: column;align-items: center;background-color: white;padding-right: 0.2em;padding-left: 0.2em;position: relative;}#sk-container-id-1 div.sk-item {position: relative;z-index: 1;}#sk-container-id-1 div.sk-parallel {display: flex;align-items: stretch;justify-content: center;background-color: white;position: relative;}#sk-container-id-1 div.sk-item::before, #sk-container-id-1 div.sk-parallel-item::before {content: \"\";position: absolute;border-left: 1px solid gray;box-sizing: border-box;top: 0;bottom: 0;left: 50%;z-index: -1;}#sk-container-id-1 div.sk-parallel-item {display: flex;flex-direction: column;z-index: 1;position: relative;background-color: white;}#sk-container-id-1 div.sk-parallel-item:first-child::after {align-self: flex-end;width: 50%;}#sk-container-id-1 div.sk-parallel-item:last-child::after {align-self: flex-start;width: 50%;}#sk-container-id-1 div.sk-parallel-item:only-child::after {width: 0;}#sk-container-id-1 div.sk-dashed-wrapped {border: 1px dashed gray;margin: 0 0.4em 0.5em 0.4em;box-sizing: border-box;padding-bottom: 0.4em;background-color: white;}#sk-container-id-1 div.sk-label label {font-family: monospace;font-weight: bold;display: inline-block;line-height: 1.2em;}#sk-container-id-1 div.sk-label-container {text-align: center;}#sk-container-id-1 div.sk-container {/* jupyter's `normalize.less` sets `[hidden] { display: none; }` but bootstrap.min.css set `[hidden] { display: none !important; }` so we also need the `!important` here to be able to override the default hidden behavior on the sphinx rendered scikit-learn.org. See: https://github.com/scikit-learn/scikit-learn/issues/21755 */display: inline-block !important;position: relative;}#sk-container-id-1 div.sk-text-repr-fallback {display: none;}</style><div id=\"sk-container-id-1\" class=\"sk-top-container\"><div class=\"sk-text-repr-fallback\"><pre>LinearRegression()</pre><b>In a Jupyter environment, please rerun this cell to show the HTML representation or trust the notebook. <br />On GitHub, the HTML representation is unable to render, please try loading this page with nbviewer.org.</b></div><div class=\"sk-container\" hidden><div class=\"sk-item\"><div class=\"sk-estimator sk-toggleable\"><input class=\"sk-toggleable__control sk-hidden--visually\" id=\"sk-estimator-id-1\" type=\"checkbox\" checked><label for=\"sk-estimator-id-1\" class=\"sk-toggleable__label sk-toggleable__label-arrow\">LinearRegression</label><div class=\"sk-toggleable__content\"><pre>LinearRegression()</pre></div></div></div></div></div>"
      ],
      "text/plain": [
       "LinearRegression()"
      ]
     },
     "execution_count": 4,
     "metadata": {},
     "output_type": "execute_result"
    }
   ],
   "source": [
    "regr = linear_model.LinearRegression()\n",
    "regr.fit(X, y)"
   ]
  },
  {
   "cell_type": "markdown",
   "id": "7c0e2c19",
   "metadata": {
    "papermill": {
     "duration": 0.005704,
     "end_time": "2023-06-23T08:08:16.514746",
     "exception": false,
     "start_time": "2023-06-23T08:08:16.509042",
     "status": "completed"
    },
    "tags": []
   },
   "source": [
    "# Slope and Intercept values"
   ]
  },
  {
   "cell_type": "code",
   "execution_count": 5,
   "id": "f81d180c",
   "metadata": {
    "execution": {
     "iopub.execute_input": "2023-06-23T08:08:16.531428Z",
     "iopub.status.busy": "2023-06-23T08:08:16.530838Z",
     "iopub.status.idle": "2023-06-23T08:08:16.537106Z",
     "shell.execute_reply": "2023-06-23T08:08:16.536007Z"
    },
    "papermill": {
     "duration": 0.018496,
     "end_time": "2023-06-23T08:08:16.539332",
     "exception": false,
     "start_time": "2023-06-23T08:08:16.520836",
     "status": "completed"
    },
    "tags": []
   },
   "outputs": [
    {
     "name": "stdout",
     "output_type": "stream",
     "text": [
      "Slope: -88303.18915238192\n",
      "Intercept: 181208083.10732976\n"
     ]
    }
   ],
   "source": [
    "print(\"Slope:\", regr.coef_[0])\n",
    "print(\"Intercept:\", regr.intercept_)"
   ]
  },
  {
   "cell_type": "markdown",
   "id": "8b455312",
   "metadata": {
    "papermill": {
     "duration": 0.005816,
     "end_time": "2023-06-23T08:08:16.551382",
     "exception": false,
     "start_time": "2023-06-23T08:08:16.545566",
     "status": "completed"
    },
    "tags": []
   },
   "source": [
    "# Scatter plot the original values and predicted values"
   ]
  },
  {
   "cell_type": "code",
   "execution_count": 6,
   "id": "db636fc2",
   "metadata": {
    "execution": {
     "iopub.execute_input": "2023-06-23T08:08:16.566186Z",
     "iopub.status.busy": "2023-06-23T08:08:16.565577Z",
     "iopub.status.idle": "2023-06-23T08:08:16.851970Z",
     "shell.execute_reply": "2023-06-23T08:08:16.850839Z"
    },
    "papermill": {
     "duration": 0.297017,
     "end_time": "2023-06-23T08:08:16.854747",
     "exception": false,
     "start_time": "2023-06-23T08:08:16.557730",
     "status": "completed"
    },
    "tags": []
   },
   "outputs": [
    {
     "data": {
      "image/png": "[encoded data removed]",
      "text/plain": [
       "<Figure size 640x480 with 1 Axes>"
      ]
     },
     "metadata": {},
     "output_type": "display_data"
    }
   ],
   "source": [
    "y_predict = regr.predict(X)\n",
    "plt.scatter(X, y)\n",
    "plt.plot(X, y_predict)\n",
    "plt.show()"
   ]
  },
  {
   "cell_type": "markdown",
   "id": "9ca71710",
   "metadata": {
    "papermill": {
     "duration": 0.006382,
     "end_time": "2023-06-23T08:08:16.867951",
     "exception": false,
     "start_time": "2023-06-23T08:08:16.861569",
     "status": "completed"
    },
    "tags": []
   },
   "source": [
    "# Visualize for future values"
   ]
  },
  {
   "cell_type": "code",
   "execution_count": 7,
   "id": "22c1fbed",
   "metadata": {
    "execution": {
     "iopub.execute_input": "2023-06-23T08:08:16.883302Z",
     "iopub.status.busy": "2023-06-23T08:08:16.882686Z",
     "iopub.status.idle": "2023-06-23T08:08:17.143489Z",
     "shell.execute_reply": "2023-06-23T08:08:17.142295Z"
    },
    "papermill": {
     "duration": 0.271555,
     "end_time": "2023-06-23T08:08:17.146101",
     "exception": false,
     "start_time": "2023-06-23T08:08:16.874546",
     "status": "completed"
    },
    "tags": []
   },
   "outputs": [
    {
     "data": {
      "image/png": "[encoded data removed]",
      "text/plain": [
       "<Figure size 640x480 with 1 Axes>"
      ]
     },
     "metadata": {},
     "output_type": "display_data"
    }
   ],
   "source": [
    "X_future = np.array(range(2013, 2051)).reshape(-1, 1)\n",
    "future_predict = regr.predict(X_future)\n",
    "plt.scatter(X, y)\n",
    "plt.plot(X_future, future_predict)\n",
    "plt.show()"
   ]
  }
 ],
 "metadata": {
  "kernelspec": {
   "display_name": "Python 3",
   "language": "python",
   "name": "python3"
  },
  "language_info": {
   "codemirror_mode": {
    "name": "ipython",
    "version": 3
   },
   "file_extension": ".py",
   "mimetype": "text/x-python",
   "name": "python",
   "nbconvert_exporter": "python",
   "pygments_lexer": "ipython3",
   "version": "3.10.10"
  },
  "papermill": {
   "default_parameters": {},
   "duration": 16.478268,
   "end_time": "2023-06-23T08:08:18.177564",
   "environment_variables": {},
   "exception": null,
   "input_path": "__notebook__.ipynb",
   "output_path": "__notebook__.ipynb",
   "parameters": {},
   "start_time": "2023-06-23T08:08:01.699296",
   "version": "2.4.0"
  }
 },
 "nbformat": 4,
 "nbformat_minor": 5
}
